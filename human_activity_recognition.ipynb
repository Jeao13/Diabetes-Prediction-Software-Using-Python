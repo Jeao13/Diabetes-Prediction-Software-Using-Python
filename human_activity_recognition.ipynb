{
  "nbformat": 4,
  "nbformat_minor": 0,
  "metadata": {
    "kernelspec": {
      "display_name": "Python 3",
      "language": "python",
      "name": "python3"
    },
    "language_info": {
      "codemirror_mode": {
        "name": "ipython",
        "version": 3
      },
      "file_extension": ".py",
      "mimetype": "text/x-python",
      "name": "python",
      "nbconvert_exporter": "python",
      "pygments_lexer": "ipython3",
      "version": "3.7.4"
    },
    "colab": {
      "name": "human_activity_recognition.ipynb",
      "provenance": [],
      "collapsed_sections": [
        "qmNikihRvt8O",
        "zgWeFkcHvt8O",
        "QGzL1nh4vt8S",
        "ZxYOT-CUvt8S",
        "0E4VoFjevt8a",
        "5hlRspfwvt8c",
        "JsQ3T26Dvt8d",
        "9PHtOgBQvt8d",
        "Gp3vEWbdvt8e",
        "_JQEnaQzvt8f",
        "WTdfWx-rvt8f"
      ],
      "include_colab_link": true
    }
  },
  "cells": [
    {
      "cell_type": "markdown",
      "metadata": {
        "id": "view-in-github",
        "colab_type": "text"
      },
      "source": [
        "<a href=\"https://colab.research.google.com/github/srrajesh113/Diabetes-Prediction-Software-Using-Python/blob/main/human_activity_recognition.ipynb\" target=\"_parent\"><img src=\"https://colab.research.google.com/assets/colab-badge.svg\" alt=\"Open In Colab\"/></a>"
      ]
    },
    {
      "cell_type": "markdown",
      "metadata": {
        "id": "Ov-3CPnKvt74"
      },
      "source": [
        "# Human Activity Recognition\n",
        "\n",
        "The videos are present in a directory called `'Data'`. I have used the `load_files()` function available in scikit-learn to get the absolute paths of these videos and their respective class labels. These paths will be later used to read the videos in the required format.\n",
        "\n",
        "For detailed information on `load_files()`, read the documantation [here](http://scikit-learn.org/stable/modules/generated/sklearn.datasets.load_files.html)\n",
        "\n",
        "The whole data in randomly split into training and test data, with **test data being one-third of the total data**.\n",
        "Also, approximately **25% of the training data will be used as the _validation set_**."
      ]
    },
    {
      "cell_type": "code",
      "metadata": {
        "colab": {
          "base_uri": "https://localhost:8080/"
        },
        "id": "ji29lCnyvzf7",
        "outputId": "86739666-2e19-440c-ef27-bada0aa4cbb1"
      },
      "source": [
        "from google.colab import drive\n",
        "drive.mount('/content/drive')\n",
        "#4/1AY0e-g5feD1TY0KncNLo0E2QOWtRiNNedACanFdcOtgPYa2mGtOmKL6KJe4"
      ],
      "execution_count": 26,
      "outputs": [
        {
          "output_type": "stream",
          "text": [
            "Drive already mounted at /content/drive; to attempt to forcibly remount, call drive.mount(\"/content/drive\", force_remount=True).\n"
          ],
          "name": "stdout"
        }
      ]
    },
    {
      "cell_type": "code",
      "metadata": {
        "ExecuteTime": {
          "end_time": "2021-03-15T07:29:04.467114Z",
          "start_time": "2021-03-15T07:29:01.303196Z"
        },
        "colab": {
          "base_uri": "https://localhost:8080/"
        },
        "id": "Lh_s7U8Dvt8A",
        "outputId": "5fa002ad-5de6-474c-c7f7-9f78384d2a95"
      },
      "source": [
        "# Imports\n",
        "import os\n",
        "from sklearn.datasets import load_files\n",
        "from sklearn.model_selection import train_test_split\n",
        "\n",
        "# Loading the data\n",
        "raw_data = load_files('//content/drive/MyDrive/Learn/data1', shuffle=False)\n",
        "files = raw_data['filenames']\n",
        "targets = raw_data['target']\n",
        "print(\"1\")\n",
        "# Randomly dividing the whole data into training (66.67%) and testing (33.33%) data \n",
        "train_files, test_files, train_targets, test_targets = train_test_split(files, targets, test_size=1/3, random_state=191)\n",
        "\n",
        "# Taking ~25% of the training data for validation\n",
        "valid_files = train_files[150:]\n",
        "valid_targets = train_targets[150:]\n",
        "\n",
        "# Remaining data will be used for training the model\n",
        "train_files = train_files[:150]\n",
        "train_targets = train_targets[:150]\n",
        "\n",
        "test_files = test_files[:]\n",
        "test_targets = test_targets[:]\n",
        "\n",
        "# Generic details about the data\n",
        "print('Total number of videos:', len(files))\n",
        "print('\\nNumber of videos in training data:', train_files.shape[0])\n",
        "print('Number of videos in validation data:', valid_files.shape[0])\n",
        "print('Number of videos in test data:', test_files.shape[0])"
      ],
      "execution_count": 28,
      "outputs": [
        {
          "output_type": "stream",
          "text": [
            "1\n",
            "Total number of videos: 299\n",
            "\n",
            "Number of videos in training data: 150\n",
            "Number of videos in validation data: 49\n",
            "Number of videos in test data: 100\n"
          ],
          "name": "stdout"
        }
      ]
    },
    {
      "cell_type": "markdown",
      "metadata": {
        "id": "lWpM7aF_vt8C"
      },
      "source": [
        "### Description of the class labels"
      ]
    },
    {
      "cell_type": "code",
      "metadata": {
        "ExecuteTime": {
          "end_time": "2021-03-15T07:29:04.479114Z",
          "start_time": "2021-03-15T07:29:04.467114Z"
        },
        "colab": {
          "base_uri": "https://localhost:8080/"
        },
        "id": "vH_JesZGvt8D",
        "outputId": "d33cae07-4de2-4906-b7e8-6d801790da95"
      },
      "source": [
        "print('The categorical labels are converted into integers.\\nFollowing is the mapping - \\n')\n",
        "for label in zip(range(6), raw_data['target_names']):\n",
        "    print(label)"
      ],
      "execution_count": 29,
      "outputs": [
        {
          "output_type": "stream",
          "text": [
            "The categorical labels are converted into integers.\n",
            "Following is the mapping - \n",
            "\n",
            "(0, 'boxing')\n",
            "(1, 'handwaving')\n",
            "(2, 'running')\n"
          ],
          "name": "stdout"
        }
      ]
    },
    {
      "cell_type": "markdown",
      "metadata": {
        "id": "m_Lxg4mxvt8D"
      },
      "source": [
        "### Each video file is associated with its class label"
      ]
    },
    {
      "cell_type": "code",
      "metadata": {
        "ExecuteTime": {
          "end_time": "2021-03-15T07:29:04.495129Z",
          "start_time": "2021-03-15T07:29:04.479114Z"
        },
        "colab": {
          "base_uri": "https://localhost:8080/"
        },
        "id": "mI5Xm1_Lvt8E",
        "outputId": "421d3937-0902-4d62-82b2-01712dece689"
      },
      "source": [
        "# Displaying the first 5 videos (paths) in the training data along with their labels\n",
        "# (path of video, class label)\n",
        "for pair in zip(train_files[:5], train_targets[:5]):\n",
        "    print(pair)"
      ],
      "execution_count": 30,
      "outputs": [
        {
          "output_type": "stream",
          "text": [
            "('//content/drive/MyDrive/Learn/data1/handwaving/person15_handwaving_d1_uncomp.avi', 1)\n",
            "('//content/drive/MyDrive/Learn/data1/running/person09_running_d1_uncomp.avi', 2)\n",
            "('//content/drive/MyDrive/Learn/data1/handwaving/person17_handwaving_d1_uncomp.avi', 1)\n",
            "('//content/drive/MyDrive/Learn/data1/running/person21_running_d3_uncomp.avi', 2)\n",
            "('//content/drive/MyDrive/Learn/data1/handwaving/person01_handwaving_d4_uncomp.avi', 1)\n"
          ],
          "name": "stdout"
        }
      ]
    },
    {
      "cell_type": "markdown",
      "metadata": {
        "id": "DihSsdO2vt8E"
      },
      "source": [
        "## Exploring the video dataset\n",
        "\n",
        "There is a helper class called `Videos` in `utils.py` for reading the videos into *numpy ndarrays*.\n",
        "\n",
        "The class provides some additional functionalities like:\n",
        "\n",
        "- Setting the target size for each frame of a video\n",
        "- Conversion each frame to gray scale\n",
        "- Various options to extract a subset of frames from each video\n",
        "- Normalizing the pixel values of each video\n",
        "\n",
        "We will use this to load out training, validation and test data."
      ]
    },
    {
      "cell_type": "markdown",
      "metadata": {
        "id": "xka862G2vt8F"
      },
      "source": [
        "### Let's load a sample of the training data *as it is*."
      ]
    },
    {
      "cell_type": "code",
      "metadata": {
        "colab": {
          "base_uri": "https://localhost:8080/"
        },
        "id": "Grtfojghw2P0",
        "outputId": "a176f9ff-6714-4d99-fff1-1411fddcfe2b"
      },
      "source": [
        "!pip install sk-video\r\n"
      ],
      "execution_count": 31,
      "outputs": [
        {
          "output_type": "stream",
          "text": [
            "Requirement already satisfied: sk-video in /usr/local/lib/python3.7/dist-packages (1.1.10)\n",
            "Requirement already satisfied: scipy in /usr/local/lib/python3.7/dist-packages (from sk-video) (1.4.1)\n",
            "Requirement already satisfied: numpy in /usr/local/lib/python3.7/dist-packages (from sk-video) (1.19.5)\n"
          ],
          "name": "stdout"
        }
      ]
    },
    {
      "cell_type": "code",
      "metadata": {
        "ExecuteTime": {
          "end_time": "2021-03-15T07:29:16.668673Z",
          "start_time": "2021-03-15T07:29:08.082683Z"
        },
        "colab": {
          "base_uri": "https://localhost:8080/",
          "height": 334
        },
        "id": "u9cY4ncNvt8F",
        "outputId": "cbd5e445-b282-4b20-c35d-8f16175fd9bf"
      },
      "source": [
        "# Imports\n",
        "import numpy as np\n",
        "import matplotlib.pyplot as plt\n",
        "from utils import Videos\n",
        "%matplotlib inline\n",
        "\n",
        "\n",
        "# The path of a sample video in the training data\n",
        "sample_files = train_files[:1]\n",
        "\n",
        "# An object of the class 'Videos'\n",
        "reader = Videos(target_size=None, \n",
        "                to_gray=True)\n",
        "\n",
        "# Loading the sample videos, in their original format\n",
        "sample = reader.read_videos(sample_files)\n",
        "print('\\nShape of the sample data:', sample.shape)\n",
        "\n",
        "# Displaying a frame from the sample video\n",
        "#plt.imshow(sample[0][150])\n",
        "plt.imshow(np.squeeze(sample[0][300], axis=2), cmap='gray')"
      ],
      "execution_count": 32,
      "outputs": [
        {
          "output_type": "stream",
          "text": [
            "100%|██████████| 1/1 [00:01<00:00,  1.58s/it]"
          ],
          "name": "stderr"
        },
        {
          "output_type": "stream",
          "text": [
            "\n",
            "Shape of the sample data: (1, 581, 120, 160, 1)\n"
          ],
          "name": "stdout"
        },
        {
          "output_type": "stream",
          "text": [
            "\n"
          ],
          "name": "stderr"
        },
        {
          "output_type": "execute_result",
          "data": {
            "text/plain": [
              "<matplotlib.image.AxesImage at 0x7f4d6c43b450>"
            ]
          },
          "metadata": {
            "tags": []
          },
          "execution_count": 32
        },
        {
          "output_type": "display_data",
          "data": {
            "image/png": "[encoded data removed]",
            "text/plain": [
              "<Figure size 432x288 with 1 Axes>"
            ]
          },
          "metadata": {
            "tags": [],
            "needs_background": "light"
          }
        }
      ]
    },
    {
      "cell_type": "code",
      "metadata": {
        "colab": {
          "base_uri": "https://localhost:8080/"
        },
        "id": "IepLsxwtYzkl",
        "outputId": "ee6c1234-b070-458e-90ff-cdefce6e48db"
      },
      "source": [
        "from google.colab import drive\n",
        "drive.mount('/content/drive')"
      ],
      "execution_count": 10,
      "outputs": [
        {
          "output_type": "stream",
          "text": [
            "Drive already mounted at /content/drive; to attempt to forcibly remount, call drive.mount(\"/content/drive\", force_remount=True).\n"
          ],
          "name": "stdout"
        }
      ]
    },
    {
      "cell_type": "markdown",
      "metadata": {
        "id": "mEp4U0eovt8G"
      },
      "source": [
        "The shape of the tensor obtained is **(1, 515, 120, 160, 3)**.\n",
        "\n",
        "This indicates that:\n",
        "\n",
        "- There is **1 video**.\n",
        "- The video has **515 frames**.\n",
        "- The dimension of **each frame is 120x160 pixels**.\n",
        "- There are **3 channels** for each frame - Red(R), Green(G) and Blue(B)\n",
        "\n",
        "---"
      ]
    },
    {
      "cell_type": "markdown",
      "metadata": {
        "id": "DvDE6hbmvt8H"
      },
      "source": [
        "## Pre-processing the Data\n",
        "\n",
        "### Conversion of frames to gray scale\n",
        "In order to simplify the computations and complexity of our models, the *frames could be converted to gray scale*. Also, since we intend the model to learn the movement patterns of the human subjects, the *color aspect of the video would not matter*.\n",
        "\n",
        "### Frame Extraction\n",
        "The dataset contains **video of varying length**. This means that the number of frames in each video is not the same. *In order to stack the videos in a tensor, each video should have the same number of frames*. Therefore, we would have to select the same number of frames from each video.\n",
        "\n",
        "Now, when it comes to frame selection, there can be several techniques.\n",
        "\n",
        "Suppose we want 'N' frames (N/25 seconds) for each video. *These frames should be contiguous* (i.e., the frames should not be selected randomly) so that our model can detect the patterns successfully. \n",
        "\n",
        "We can follow one of the 3 obvious strategies:\n",
        "1. Extract the **first N frames** from each video\n",
        "2. Extract the **last N frames** from each video\n",
        "3. Extract **N frames from the middle**.  \n",
        "    Let's say that the video has 'M' frames in total. If we select N frames, there are (M - N) frames left.\n",
        "    In order to do frame selection from the middle of the video, we would *remove the first (M - N)/2 frames* and the *last (M - N)/2 frames*.\n",
        "    \n",
        "### Dimensions of each frame in a video\n",
        "We might have a situation where the *spatial dimensions (width and height) of the frames could be different in different videos*. In such a case, our model would fail to function properly. Therefore, we would require *each frame in every video to have the same spatial dimension*.\n",
        "\n",
        "Fortunately, in our dataset, every video has the spatial dimension of 120x160 pixels. But, I will still resize each video to have a spatial dimension of 128x128 pixels\n",
        "\n",
        "### Pixel Normalization\n",
        "Data normalization is an important step which ensures that each input parameter (pixel, in this case) has a similar data distribution. This makes convergence faster while training the network.\n",
        "\n",
        "The pixel value ranges from 0 to 255. So, we will bring it in the range [0, 1].\n",
        "\n",
        "** The helper function `read_videos()` that we used before provides the functionality to do all of these _customizations_.**\n",
        "\n",
        "### One-hot Encoding\n",
        "**Categorical labels** should be encoded using this technique called *One-hot Encoding*.\n",
        "\n",
        "Example-\n",
        "\n",
        "*Before One-hot encoding*\n",
        "\n",
        "| Class Label | Mapped Integer |\n",
        "| :---------: | :------------: |\n",
        "| Boxing | 0 |\n",
        "| Handclapping | 1 |\n",
        "| Handwaving | 2 |\n",
        "| Jogging | 3 |\n",
        "| Running | 4 |\n",
        "| Walking | 5 |\n",
        "\n",
        "*After One-hot encoding*\n",
        "\n",
        "| Class Label | 0 | 1 | 2 | 3 | 4 | 5 |\n",
        "| :---------: | - | - | - | - | - | - |\n",
        "| Boxing | 1 | 0 | 0 | 0 | 0 | 0 |\n",
        "| Handclapping | 0 | 1 | 0 | 0 | 0 | 0 |\n",
        "| Handwaving | 0 | 0 | 1 | 0 | 0 | 0 |\n",
        "| Jogging | 0 | 0 | 0 | 1 | 0 | 0 |\n",
        "| Running | 0 | 0 | 0 | 0 | 1 | 0 |\n",
        "| Walking | 0 | 0 | 0 | 0 | 0 | 1 |\n",
        "\n",
        "We will use the `to_categorical()` functions provided by the `keras.utils` module for one-hot encoding the labels.  \n",
        "For further details, read the documentation [here](https://keras.io/utils/#to_categorical)\n",
        "\n",
        "---\n",
        "\n",
        "We will now load the data where:\n",
        "\n",
        "- Each video will have a spatial dimension of 128x128 pixels\n",
        "- Each video will have a maximum of 200 frames (extracted from the middle)\n",
        "- The pixels will be normalized to the range [0, 1]\n",
        "- The class labels are One-hot Encoded"
      ]
    },
    {
      "cell_type": "code",
      "metadata": {
        "ExecuteTime": {
          "end_time": "2021-03-09T12:57:52.386846Z",
          "start_time": "2021-03-09T12:57:52.365426Z"
        },
        "id": "55ZO7ZIsvt8I"
      },
      "source": [
        "# Imports\n",
        "import numpy as np\n",
        "from keras.utils import to_categorical\n",
        "from utils import Videos\n",
        "\n",
        "# An object of the class `Videos` to load the data in the required format\n",
        "reader = Videos(target_size=(128, 128), \n",
        "                to_gray=True, \n",
        "                max_frames=150, \n",
        "                extract_frames='middle', \n",
        "                normalize_pixels=(0, 1))"
      ],
      "execution_count": null,
      "outputs": []
    },
    {
      "cell_type": "code",
      "metadata": {
        "ExecuteTime": {
          "end_time": "2021-03-09T13:01:09.453719Z",
          "start_time": "2021-03-09T12:57:52.393348Z"
        },
        "id": "tCpR9M8Cvt8I",
        "outputId": "81077180-f270-42cc-ce8d-84e0f2b14553"
      },
      "source": [
        "# Reading training videos and one-hot encoding the training labels\n",
        "X_train = reader.read_videos(train_files)\n",
        "y_train = to_categorical(train_targets, num_classes=6)\n",
        "print('Shape of training data:', X_train.shape)\n",
        "print('Shape of training labels:', y_train.shape)"
      ],
      "execution_count": null,
      "outputs": [
        {
          "output_type": "stream",
          "text": [
            "100%|██████████████████████████████████████████████████████████████████████████████████| 85/85 [02:52<00:00,  2.03s/it]\n"
          ],
          "name": "stderr"
        },
        {
          "output_type": "stream",
          "text": [
            "Shape of training data: (85, 150, 128, 128, 1)\n",
            "Shape of training labels: (85, 6)\n"
          ],
          "name": "stdout"
        }
      ]
    },
    {
      "cell_type": "code",
      "metadata": {
        "ExecuteTime": {
          "end_time": "2021-03-09T13:01:09.656218Z",
          "start_time": "2021-03-09T13:01:09.511045Z"
        },
        "id": "ltoveJxwvt8J",
        "outputId": "7bb00a57-48a2-4c5b-ced5-25cf23e9ff4d"
      },
      "source": [
        "y_train[:5]"
      ],
      "execution_count": null,
      "outputs": [
        {
          "output_type": "execute_result",
          "data": {
            "text/plain": [
              "array([[0., 0., 0., 0., 0., 1.],\n",
              "       [0., 0., 1., 0., 0., 0.],\n",
              "       [0., 0., 1., 0., 0., 0.],\n",
              "       [0., 1., 0., 0., 0., 0.],\n",
              "       [0., 0., 0., 1., 0., 0.]], dtype=float32)"
            ]
          },
          "metadata": {
            "tags": []
          },
          "execution_count": 7
        }
      ]
    },
    {
      "cell_type": "code",
      "metadata": {
        "ExecuteTime": {
          "end_time": "2021-02-24T08:38:04.057070Z",
          "start_time": "2021-02-24T08:38:03.001583Z"
        },
        "id": "o1tOrgLWvt8K"
      },
      "source": [
        ""
      ],
      "execution_count": null,
      "outputs": []
    },
    {
      "cell_type": "code",
      "metadata": {
        "ExecuteTime": {
          "end_time": "2021-03-09T13:02:26.580439Z",
          "start_time": "2021-03-09T13:01:09.695910Z"
        },
        "id": "Srs4HL-wvt8K",
        "outputId": "b5473eb3-1fbe-4504-b5f1-c41c85ff71c7"
      },
      "source": [
        "# Reading validation videos and one-hot encoding the validation labels\n",
        "X_valid = reader.read_videos(valid_files)\n",
        "y_valid = to_categorical(valid_targets, num_classes=6)\n",
        "print('Shape of validation data:', X_valid.shape)\n",
        "print('Shape of validation labels:', y_valid.shape)"
      ],
      "execution_count": null,
      "outputs": [
        {
          "output_type": "stream",
          "text": [
            "100%|██████████████████████████████████████████████████████████████████████████████████| 42/42 [01:07<00:00,  1.61s/it]\n"
          ],
          "name": "stderr"
        },
        {
          "output_type": "stream",
          "text": [
            "Shape of validation data: (42, 150, 128, 128, 1)\n",
            "Shape of validation labels: (42, 6)\n"
          ],
          "name": "stdout"
        }
      ]
    },
    {
      "cell_type": "code",
      "metadata": {
        "id": "oIfHLSqkvt8L"
      },
      "source": [
        ""
      ],
      "execution_count": null,
      "outputs": []
    },
    {
      "cell_type": "code",
      "metadata": {
        "ExecuteTime": {
          "end_time": "2021-03-09T13:04:28.243254Z",
          "start_time": "2021-03-09T13:02:26.608815Z"
        },
        "id": "OgLHjeNRvt8L",
        "outputId": "b15ff678-e22f-4b16-8fe0-bdf982912184"
      },
      "source": [
        "# Reading testing videos and one-hot encoding the testing labels\n",
        "X_test = reader.read_videos(test_files)\n",
        "y_test = to_categorical(test_targets, num_classes=6)\n",
        "print('Shape of testing data:', X_test.shape)\n",
        "print('Shape of testing labels:', y_test.shape)"
      ],
      "execution_count": null,
      "outputs": [
        {
          "output_type": "stream",
          "text": [
            "100%|██████████████████████████████████████████████████████████████████████████████████| 64/64 [01:48<00:00,  1.69s/it]\n"
          ],
          "name": "stderr"
        },
        {
          "output_type": "stream",
          "text": [
            "Shape of testing data: (64, 150, 128, 128, 1)\n",
            "Shape of testing labels: (64, 6)\n"
          ],
          "name": "stdout"
        }
      ]
    },
    {
      "cell_type": "code",
      "metadata": {
        "ExecuteTime": {
          "end_time": "2021-03-09T13:06:28.856264Z",
          "start_time": "2021-03-09T13:06:28.502771Z"
        },
        "id": "wx2wIBk3vt8L",
        "outputId": "480b12e9-a17c-41e0-d376-a5c9557ff37a"
      },
      "source": [
        "import matplotlib.pyplot as plt\n",
        "%matplotlib inline\n",
        "\n",
        "# After pre-processing\n",
        "\n",
        "# Displaying the first frame of the first processed video from the training data\n",
        "plt.imshow(np.squeeze(X_train[1][100], axis=2), cmap='gray')"
      ],
      "execution_count": null,
      "outputs": [
        {
          "output_type": "execute_result",
          "data": {
            "text/plain": [
              "<matplotlib.image.AxesImage at 0x1ad2ca18f08>"
            ]
          },
          "metadata": {
            "tags": []
          },
          "execution_count": 24
        },
        {
          "output_type": "display_data",
          "data": {
            "image/png": "[encoded data removed]",
            "text/plain": [
              "<Figure size 432x288 with 1 Axes>"
            ]
          },
          "metadata": {
            "tags": [],
            "needs_background": "light"
          }
        }
      ]
    },
    {
      "cell_type": "markdown",
      "metadata": {
        "id": "j7rYrfa4vt8M"
      },
      "source": [
        "The shape of the training data is **(300, 200, 128, 128, 1)**\n",
        "\n",
        "This indicates that - \n",
        "\n",
        "- There are **300 videos**.\n",
        "- The video has **exactly 200 frames**.\n",
        "- The dimension of **each frame is 128x128 pixels**.\n",
        "- There is **only 1 channel** for each frame, i.e., all videos are gray scale\n",
        "\n",
        "---"
      ]
    },
    {
      "cell_type": "markdown",
      "metadata": {
        "id": "tzbbdZgxvt8M"
      },
      "source": [
        "## Model Construction\n",
        "\n",
        "### Model - 1\n",
        "\n",
        "A simple convolutional model is now constructed for the data that we have. The model has **alternating convolutional and pooling layers**. THe advantage of such a model is that it can be used to *encode the content of the image into a vector (with more depth, but less height and width)*. What this means is that the convolutional layers will be used to make the input deeper (increase the depth of the image - producing a stack of multiple feature maps), whereas the pooling layers will reduce the spatial dimensions of the input.\n",
        "\n",
        "For each convolutional layer, we have to configure the following parameters:\n",
        "\n",
        "- `filters`: This is the number of feature maps required as the output of that convolutional layer. \n",
        "- `kernel_size`: The size of the window that will get convolved along all thhe axes of the input data to produce a single feature map.\n",
        "- `strides`: The number of pixels by which the convolutional window should shift by.\n",
        "- `padding`: To decide what happens on the edges - either the input gets cropped (`valid`) or the input is padded with zeros to maintain the same dimensionality (`same`).\n",
        "- `activation`: The activation function to be used for that layer. (`ReLU` is proven to work best with deep neural networks because of its *non-linearity*, and it property of *avoiding the vanishing gradient problem*).\n",
        "\n",
        "I have used the **MaxPooling Layer** that takes the maximum value of the input in the specified window.\n",
        "\n",
        "For each pooling layer, we have to configure the following parameters:\n",
        "\n",
        "- `pool_size`: The size of the window (from which to take the maximum value)\n",
        "- `strides`: The number of pixels by which the pooling window should shift by.\n",
        "- `padding`: To decide what happens on the edges - either the input gets cropped (`valid`) or the input is padded with zeros to maintain the same dimensionality (`same`).\n",
        "\n",
        "Thses combination of alternating convolutional and pooling layers is followed by a Global Pooling layer. When there is no more spatial information left in the input to extract (the spatial dimensions of the input have cannot be further decreased by the pooling layers), the *Global pooling layer converts its input to a 1-d vector (having the same depth)*.\n",
        "\n",
        "This **1-dimensional vector is then used as the input for a dense, fully-connected neural network**. The fully-connected network will have some hidden layers and an output layer (with 6 neurons - one for each class label). *For the output layer, I have used the softmax activation function*, that gives a probability for the input to belong to each of the class. Finally, the class label with the highest probability is assigned to that input.\n",
        "\n",
        "For further information, read the documentation of on how to implement this model in Keras.\n",
        "\n",
        "- [Convolutional Layer (3D)](https://keras.io/layers/convolutional/#conv3d)\n",
        "- [MaxPooling Layer (3D)](https://keras.io/layers/pooling/#maxpooling3d)\n",
        "- [GlobalAveragePooling Layer (3D)](https://keras.io/layers/pooling/#globalaveragepooling3d) - As of December 17, 2017 the official documentation of does not contain this layer. But this link should work fine once the documentation is updated.\n",
        "- [Dense Layer](https://keras.io/layers/core/#dense)"
      ]
    },
    {
      "cell_type": "code",
      "metadata": {
        "ExecuteTime": {
          "end_time": "2021-03-09T13:05:07.590542Z",
          "start_time": "2021-03-09T13:05:07.286186Z"
        },
        "id": "P6vGu9D4vt8N",
        "outputId": "84f0a507-d213-4f8c-c8b6-469eeecc09bb"
      },
      "source": [
        "# Imports\n",
        "from keras.models import Sequential\n",
        "from keras.layers import Conv3D, MaxPooling3D, GlobalAveragePooling3D\n",
        "from keras.layers.core import Dense\n",
        "\n",
        "# Using the Sequential Model\n",
        "model = Sequential()\n",
        "\n",
        "# Adding Alternate convolutional and pooling layers\n",
        "model.add(Conv3D(filters=16, kernel_size=(10, 3, 3), strides=(5, 1, 1), padding='same', activation='relu', \n",
        "                 input_shape=X_train.shape[1:]))\n",
        "model.add(MaxPooling3D(pool_size=2, strides=(1, 2, 2), padding='same'))\n",
        "\n",
        "model.add(Conv3D(filters=64, kernel_size=(5, 3, 3), strides=(3, 1, 1), padding='valid', activation='relu'))\n",
        "model.add(MaxPooling3D(pool_size=2, strides=(1, 2, 2), padding='same'))\n",
        "\n",
        "model.add(Conv3D(filters=256, kernel_size=(5, 3, 3), strides=(3, 1, 1), padding='valid', activation='relu'))\n",
        "model.add(MaxPooling3D(pool_size=2, strides=(1, 2, 2), padding='same'))\n",
        "\n",
        "# A global average pooling layer to get a 1-d vector\n",
        "# The vector will have a depth (same as number of elements in the vector) of 256\n",
        "model.add(GlobalAveragePooling3D())\n",
        "\n",
        "# The Global average pooling layer is followed by a fully-connected neural network, with one hidden and one output layer\n",
        "\n",
        "# Hidden Layer\n",
        "model.add(Dense(32, activation='relu'))\n",
        "\n",
        "# Output layer\n",
        "model.add(Dense(6, activation='softmax'))\n",
        "\n",
        "model.summary()"
      ],
      "execution_count": null,
      "outputs": [
        {
          "output_type": "stream",
          "text": [
            "Model: \"sequential_1\"\n",
            "_________________________________________________________________\n",
            "Layer (type)                 Output Shape              Param #   \n",
            "=================================================================\n",
            "conv3d_3 (Conv3D)            (None, 30, 128, 128, 16)  1456      \n",
            "_________________________________________________________________\n",
            "max_pooling3d_3 (MaxPooling3 (None, 30, 64, 64, 16)    0         \n",
            "_________________________________________________________________\n",
            "conv3d_4 (Conv3D)            (None, 9, 62, 62, 64)     46144     \n",
            "_________________________________________________________________\n",
            "max_pooling3d_4 (MaxPooling3 (None, 9, 31, 31, 64)     0         \n",
            "_________________________________________________________________\n",
            "conv3d_5 (Conv3D)            (None, 2, 29, 29, 256)    737536    \n",
            "_________________________________________________________________\n",
            "max_pooling3d_5 (MaxPooling3 (None, 2, 15, 15, 256)    0         \n",
            "_________________________________________________________________\n",
            "global_average_pooling3d_1 ( (None, 256)               0         \n",
            "_________________________________________________________________\n",
            "dense_2 (Dense)              (None, 32)                8224      \n",
            "_________________________________________________________________\n",
            "dense_3 (Dense)              (None, 6)                 198       \n",
            "=================================================================\n",
            "Total params: 793,558\n",
            "Trainable params: 793,558\n",
            "Non-trainable params: 0\n",
            "_________________________________________________________________\n"
          ],
          "name": "stdout"
        }
      ]
    },
    {
      "cell_type": "markdown",
      "metadata": {
        "id": "qmNikihRvt8O"
      },
      "source": [
        "### Training Model - 1\n",
        "\n",
        "Here, the model (`Model-1`) is being trained on the training data. For each *epoch* (iteration), the model is being validated using the validation data. The model is trained for 40 epochs. Also, the model (model's weights) that performed the best on the validation set is being saved in a file (`Model_1.weights.best.hdf5`)."
      ]
    },
    {
      "cell_type": "markdown",
      "metadata": {
        "id": "zgWeFkcHvt8O"
      },
      "source": [
        "### Evaluating Model - 1\n",
        "\n",
        "The best model weights are loaded and then the model is evaluated on the test data. I have used accuracy as the metric to test the model's performance on the test data."
      ]
    },
    {
      "cell_type": "code",
      "metadata": {
        "ExecuteTime": {
          "start_time": "2021-03-09T13:06:38.611Z"
        },
        "scrolled": true,
        "id": "Lonttn50vt8O",
        "outputId": "a470b0ba-bd80-47b5-ffff-1a9e6ebf5d70"
      },
      "source": [
        "# Imports\n",
        "from keras.callbacks import ModelCheckpoint\n",
        "\n",
        "# Compiling the model\n",
        "model.compile(loss='categorical_crossentropy', optimizer='adam', metrics=['accuracy'])\n",
        "\n",
        "# Saving the model that performed the best on the validation set\n",
        "checkpoint = ModelCheckpoint(filepath='Model_1.weights.best.hdf5', save_best_only=True, verbose=1)\n",
        "\n",
        "# Training the model for 40 epochs\n",
        "history = model.fit(X_train, y_train, batch_size=16, epochs=3, \n",
        "                    validation_data=(X_valid, y_valid), verbose=2, callbacks=[checkpoint])"
      ],
      "execution_count": null,
      "outputs": [
        {
          "output_type": "stream",
          "text": [
            "Epoch 1/3\n",
            "\n",
            "Epoch 00001: val_loss improved from inf to 1.83541, saving model to Model_1.weights.best.hdf5\n",
            "6/6 - 488s - loss: 1.8100 - accuracy: 0.1529 - val_loss: 1.8354 - val_accuracy: 0.0952\n",
            "Epoch 2/3\n",
            "\n",
            "Epoch 00002: val_loss did not improve from 1.83541\n",
            "6/6 - 634s - loss: 1.7824 - accuracy: 0.2588 - val_loss: 1.8863 - val_accuracy: 0.0952\n",
            "Epoch 3/3\n"
          ],
          "name": "stdout"
        }
      ]
    },
    {
      "cell_type": "code",
      "metadata": {
        "ExecuteTime": {
          "end_time": "2021-03-03T00:36:48.431460Z",
          "start_time": "2021-03-03T00:24:01.212787Z"
        },
        "id": "qEL896W-vt8P",
        "outputId": "2283af20-db1c-4ce8-cfb5-32a89b996cde"
      },
      "source": [
        "# Training the model for 40 epochs\n",
        "history = model.fit(X_train, y_train, batch_size=16, epochs=3, \n",
        "                    validation_data=(X_valid, y_valid), verbose=2, callbacks=[checkpoint])"
      ],
      "execution_count": null,
      "outputs": [
        {
          "output_type": "stream",
          "text": [
            "Epoch 1/3\n",
            "\n",
            "Epoch 00001: val_loss improved from 1.80676 to 1.74429, saving model to Model_1.weights.best.hdf5\n",
            "6/6 - 158s - loss: 1.6779 - accuracy: 0.2588 - val_loss: 1.7443 - val_accuracy: 0.0952\n",
            "Epoch 2/3\n",
            "\n",
            "Epoch 00002: val_loss improved from 1.74429 to 1.67054, saving model to Model_1.weights.best.hdf5\n",
            "6/6 - 242s - loss: 1.5799 - accuracy: 0.2588 - val_loss: 1.6705 - val_accuracy: 0.0952\n",
            "Epoch 3/3\n",
            "\n",
            "Epoch 00003: val_loss improved from 1.67054 to 1.61683, saving model to Model_1.weights.best.hdf5\n",
            "6/6 - 240s - loss: 1.4865 - accuracy: 0.2941 - val_loss: 1.6168 - val_accuracy: 0.2857\n"
          ],
          "name": "stdout"
        }
      ]
    },
    {
      "cell_type": "code",
      "metadata": {
        "ExecuteTime": {
          "end_time": "2021-03-03T00:49:52.223729Z",
          "start_time": "2021-03-03T00:38:31.462228Z"
        },
        "id": "ea5AaEIPvt8P",
        "outputId": "14f0d05e-73c0-4145-b22f-8e990f3a19ce"
      },
      "source": [
        "# Training the model for 40 epochs\n",
        "history = model.fit(X_train, y_train, batch_size=16, epochs=3, \n",
        "                    validation_data=(X_valid, y_valid), verbose=2, callbacks=[checkpoint])"
      ],
      "execution_count": null,
      "outputs": [
        {
          "output_type": "stream",
          "text": [
            "Epoch 1/3\n",
            "\n",
            "Epoch 00001: val_loss improved from 1.61683 to 1.53567, saving model to Model_1.weights.best.hdf5\n",
            "6/6 - 191s - loss: 1.4285 - accuracy: 0.3882 - val_loss: 1.5357 - val_accuracy: 0.2857\n",
            "Epoch 2/3\n",
            "\n",
            "Epoch 00002: val_loss improved from 1.53567 to 1.33378, saving model to Model_1.weights.best.hdf5\n",
            "6/6 - 190s - loss: 1.3316 - accuracy: 0.4471 - val_loss: 1.3338 - val_accuracy: 0.3571\n",
            "Epoch 3/3\n",
            "\n",
            "Epoch 00003: val_loss improved from 1.33378 to 1.23422, saving model to Model_1.weights.best.hdf5\n",
            "6/6 - 170s - loss: 1.2912 - accuracy: 0.2471 - val_loss: 1.2342 - val_accuracy: 0.3571\n"
          ],
          "name": "stdout"
        }
      ]
    },
    {
      "cell_type": "code",
      "metadata": {
        "ExecuteTime": {
          "end_time": "2021-03-03T00:53:05.082007Z",
          "start_time": "2021-03-03T00:52:42.968709Z"
        },
        "id": "mAd-pXEjvt8P",
        "outputId": "b8b3ceaa-546d-488f-cee6-9ab9ef2a20af"
      },
      "source": [
        "# Loading the model that performed the best on the validation set\n",
        "model.load_weights('Model_1.weights.best.hdf5')\n",
        "\n",
        "# Testing the model on the Test data\n",
        "(loss, accuracy) = model.evaluate(X_test, y_test, batch_size=16, verbose=0)\n",
        "\n",
        "print('Accuracy on test data: {:.2f}%'.format(accuracy * 100))"
      ],
      "execution_count": null,
      "outputs": [
        {
          "output_type": "stream",
          "text": [
            "Accuracy on test data: 25.00%\n"
          ],
          "name": "stdout"
        }
      ]
    },
    {
      "cell_type": "code",
      "metadata": {
        "id": "gyBvgLjwvt8Q"
      },
      "source": [
        ""
      ],
      "execution_count": null,
      "outputs": []
    },
    {
      "cell_type": "markdown",
      "metadata": {
        "id": "RQiKUKK7vt8Q"
      },
      "source": [
        "## Model - 1 Performance\n",
        "\n",
        "The model gave an **Accuracy of 37% on the test data**.\n",
        "\n",
        "### Learning Curve - Training loss vs. Validation loss\n",
        "\n",
        "Used to determine whether the *model is overfitting to the training data* or not. If yes, then which *model performed the best on the validation set is chosen*."
      ]
    },
    {
      "cell_type": "code",
      "metadata": {
        "ExecuteTime": {
          "end_time": "2021-02-24T09:23:54.961073Z",
          "start_time": "2021-02-24T09:23:54.761319Z"
        },
        "id": "OUajqmoRvt8Q",
        "outputId": "aeba75db-b4fb-4c3a-84e3-e96fe1e50d68"
      },
      "source": [
        "# Making the plot larger\n",
        "plt.figure(figsize=(12, 8))\n",
        "\n",
        "loss = history.history['loss']                          # Loss on the training data\n",
        "val_loss = history.history['val_loss']                  # Loss on the validation data\n",
        "epochs = range(1,6)\n",
        "\n",
        "plt.plot(epochs, loss, 'ro-', label='Training Loss')\n",
        "plt.plot(epochs, val_loss, 'go-', label = 'Validation Loss')\n",
        "plt.legend()"
      ],
      "execution_count": null,
      "outputs": [
        {
          "output_type": "execute_result",
          "data": {
            "text/plain": [
              "<matplotlib.legend.Legend at 0x215035c9b48>"
            ]
          },
          "metadata": {
            "tags": []
          },
          "execution_count": 35
        },
        {
          "output_type": "display_data",
          "data": {
            "image/png": "[encoded data removed]",
            "text/plain": [
              "<Figure size 864x576 with 1 Axes>"
            ]
          },
          "metadata": {
            "tags": [],
            "needs_background": "light"
          }
        }
      ]
    },
    {
      "cell_type": "markdown",
      "metadata": {
        "id": "vwDDb7SUvt8R"
      },
      "source": [
        "As we can observe from the learning curve, during the first 15 epochs, the training and validation loss both decrease steeply. But after that, the model starts to overfit a little. Here, overfitting means that although the model performed better on the training data, but its performance on the validation data got degraded. *This usually happens when our model is too complex for the data and it starts to momorize the training data*. We can see that during the last 5 epochs, there is a huge difference between the training and validation loss.\n",
        "\n",
        "---"
      ]
    },
    {
      "cell_type": "markdown",
      "metadata": {
        "id": "OI-0T9Ravt8R"
      },
      "source": [
        "## Model - 2\n",
        "\n",
        "In order to prevent overfitting, there is a method called **Dropout**. What this does is that at each epoch, a fraction of the neurons (of the layer to which dropout is applied) are deactivated. This forces the network to use and update the weights of the remaining neurons. The dropout is applied to the fully-connected layers.\n",
        "\n",
        "    Note: Dropout is used only while model training, and not during the testing.\n",
        "    \n",
        "In this next model (`Model-2`), I've added a dropout for the hidden layer (with 32 neurons) in the fully-connected layers at the end. Rest of the model is same as *Model-1*."
      ]
    },
    {
      "cell_type": "code",
      "metadata": {
        "ExecuteTime": {
          "end_time": "2021-02-24T09:05:38.869210Z",
          "start_time": "2021-02-24T09:05:38.731406Z"
        },
        "id": "NnQ6al2nvt8R",
        "outputId": "c63d166e-a315-412d-e6ec-f813f648f3d9"
      },
      "source": [
        "# Imports\n",
        "from keras.models import Sequential\n",
        "from keras.layers import Conv3D, MaxPooling3D, GlobalAveragePooling3D\n",
        "from keras.layers.core import Dense, Dropout\n",
        "\n",
        "# Using the Sequential Model\n",
        "model = Sequential()\n",
        "\n",
        "# Adding Alternate convolutional and pooling layers\n",
        "model.add(Conv3D(filters=16, kernel_size=(10, 3, 3), strides=(5, 1, 1), padding='same', activation='relu', \n",
        "                 input_shape=X_train.shape[1:]))\n",
        "model.add(MaxPooling3D(pool_size=2, strides=(1, 2, 2), padding='same'))\n",
        "\n",
        "model.add(Conv3D(filters=64, kernel_size=(5, 3, 3), strides=(3, 1, 1), padding='valid', activation='relu'))\n",
        "model.add(MaxPooling3D(pool_size=2, strides=(1, 2, 2), padding='same'))\n",
        "\n",
        "model.add(Conv3D(filters=256, kernel_size=(5, 3, 3), strides=(3, 1, 1), padding='valid', activation='relu'))\n",
        "model.add(MaxPooling3D(pool_size=2, strides=(1, 2, 2), padding='same'))\n",
        "\n",
        "# A global average pooling layer to get a 1-d vector\n",
        "# The vector will have a depth (same as number of elements in the vector) of 256\n",
        "model.add(GlobalAveragePooling3D())\n",
        "\n",
        "# Hidden layer\n",
        "model.add(Dense(32, activation='relu'))\n",
        "\n",
        "# Dropout Layer\n",
        "model.add(Dropout(0.5))\n",
        "\n",
        "# Output layer\n",
        "model.add(Dense(6, activation='softmax'))\n",
        "\n",
        "model.summary()"
      ],
      "execution_count": null,
      "outputs": [
        {
          "output_type": "stream",
          "text": [
            "Model: \"sequential_1\"\n",
            "_________________________________________________________________\n",
            "Layer (type)                 Output Shape              Param #   \n",
            "=================================================================\n",
            "conv3d_3 (Conv3D)            (None, 20, 128, 128, 16)  1456      \n",
            "_________________________________________________________________\n",
            "max_pooling3d_3 (MaxPooling3 (None, 20, 64, 64, 16)    0         \n",
            "_________________________________________________________________\n",
            "conv3d_4 (Conv3D)            (None, 6, 62, 62, 64)     46144     \n",
            "_________________________________________________________________\n",
            "max_pooling3d_4 (MaxPooling3 (None, 6, 31, 31, 64)     0         \n",
            "_________________________________________________________________\n",
            "conv3d_5 (Conv3D)            (None, 1, 29, 29, 256)    737536    \n",
            "_________________________________________________________________\n",
            "max_pooling3d_5 (MaxPooling3 (None, 1, 15, 15, 256)    0         \n",
            "_________________________________________________________________\n",
            "global_average_pooling3d_1 ( (None, 256)               0         \n",
            "_________________________________________________________________\n",
            "dense_2 (Dense)              (None, 32)                8224      \n",
            "_________________________________________________________________\n",
            "dropout (Dropout)            (None, 32)                0         \n",
            "_________________________________________________________________\n",
            "dense_3 (Dense)              (None, 6)                 198       \n",
            "=================================================================\n",
            "Total params: 793,558\n",
            "Trainable params: 793,558\n",
            "Non-trainable params: 0\n",
            "_________________________________________________________________\n"
          ],
          "name": "stdout"
        }
      ]
    },
    {
      "cell_type": "markdown",
      "metadata": {
        "id": "QGzL1nh4vt8S"
      },
      "source": [
        "### Training Model - 2\n",
        "\n",
        "Training `Model-2` for 40 epochs on the training data and saving the weights of the model that performed the best on the validation data."
      ]
    },
    {
      "cell_type": "code",
      "metadata": {
        "ExecuteTime": {
          "end_time": "2021-02-24T09:22:08.202682Z",
          "start_time": "2021-02-24T09:05:55.263889Z"
        },
        "id": "dW2l_Zd_vt8S",
        "outputId": "efde3f1c-a956-4926-d0de-c9b279e5704f"
      },
      "source": [
        "# Imports\n",
        "from keras.callbacks import ModelCheckpoint\n",
        "\n",
        "# Compiling the model\n",
        "model.compile(loss='categorical_crossentropy', optimizer='adam', metrics=['accuracy'])\n",
        "\n",
        "# Saving the model that performed the best on the validation set\n",
        "checkpoint = ModelCheckpoint(filepath='Model_2.weights.best.hdf5', save_best_only=True, verbose=1)\n",
        "\n",
        "# Training the model for 40 epochs\n",
        "history = model.fit(X_train, y_train, batch_size=16, epochs=5, \n",
        "                    validation_data=(X_valid, y_valid), verbose=2, callbacks=[checkpoint])"
      ],
      "execution_count": null,
      "outputs": [
        {
          "output_type": "stream",
          "text": [
            "Epoch 1/5\n",
            "\n",
            "Epoch 00001: val_loss improved from inf to 1.79393, saving model to Model_2.weights.best.hdf5\n",
            "5/5 - 145s - loss: 1.8214 - accuracy: 0.1200 - val_loss: 1.7939 - val_accuracy: 0.1333\n",
            "Epoch 2/5\n",
            "\n",
            "Epoch 00002: val_loss improved from 1.79393 to 1.79244, saving model to Model_2.weights.best.hdf5\n",
            "5/5 - 154s - loss: 1.7918 - accuracy: 0.2267 - val_loss: 1.7924 - val_accuracy: 0.1333\n",
            "Epoch 3/5\n",
            "\n",
            "Epoch 00003: val_loss did not improve from 1.79244\n",
            "5/5 - 157s - loss: 1.7948 - accuracy: 0.2267 - val_loss: 1.7959 - val_accuracy: 0.1333\n",
            "Epoch 4/5\n",
            "\n",
            "Epoch 00004: val_loss did not improve from 1.79244\n",
            "5/5 - 156s - loss: 1.7910 - accuracy: 0.2000 - val_loss: 1.7947 - val_accuracy: 0.1333\n",
            "Epoch 5/5\n",
            "\n",
            "Epoch 00005: val_loss did not improve from 1.79244\n",
            "5/5 - 182s - loss: 1.7834 - accuracy: 0.2667 - val_loss: 1.8215 - val_accuracy: 0.1333\n"
          ],
          "name": "stdout"
        }
      ]
    },
    {
      "cell_type": "markdown",
      "metadata": {
        "id": "ZxYOT-CUvt8S"
      },
      "source": [
        "### Evaluating Model - 2\n",
        "\n",
        "Evaluating `Model-2` on the test data."
      ]
    },
    {
      "cell_type": "code",
      "metadata": {
        "ExecuteTime": {
          "end_time": "2021-02-24T09:22:47.477138Z",
          "start_time": "2021-02-24T09:22:15.967641Z"
        },
        "id": "U3cVJCsbvt8S",
        "outputId": "c0fd88b4-2c24-438b-8371-cab10a9a0862"
      },
      "source": [
        "# Loading the model that performed the best on the validation set\n",
        "model.load_weights('Model_2.weights.best.hdf5')\n",
        "\n",
        "# Testing the model on the Test data\n",
        "(loss, accuracy) = model.evaluate(X_test, y_test, batch_size=16, verbose=0)\n",
        "\n",
        "print('Accuracy on test data: {:.2f}%'.format(accuracy * 100))"
      ],
      "execution_count": null,
      "outputs": [
        {
          "output_type": "stream",
          "text": [
            "Accuracy on test data: 8.33%\n"
          ],
          "name": "stdout"
        }
      ]
    },
    {
      "cell_type": "markdown",
      "metadata": {
        "collapsed": true,
        "id": "vbQFEPV2vt8T"
      },
      "source": [
        "## Model - 2 Performance\n",
        "\n",
        "The model gave an **Accuracy of 58.5% on the test data**.\n",
        "\n",
        "So, just by adding a dropout layer, the **model's accuracy increased by almost 22%** (from 37% to 58.5%). This shows that the dropout prevented our model from overfitting. We can see this further in the learning curve of this model.\n",
        "\n",
        "### Learning Curve"
      ]
    },
    {
      "cell_type": "code",
      "metadata": {
        "ExecuteTime": {
          "end_time": "2021-02-24T09:23:29.413940Z",
          "start_time": "2021-02-24T09:23:29.169884Z"
        },
        "id": "xpJdnKtAvt8T",
        "outputId": "221a17cb-532d-4143-c3ee-353fe7b8fbce"
      },
      "source": [
        "# Making the plot larger\n",
        "plt.figure(figsize=(12, 8))\n",
        "\n",
        "loss = history.history['loss']                          # Loss on the training data\n",
        "val_loss = history.history['val_loss']                  # Loss on the validation data\n",
        "epochs = range(1,6)\n",
        "\n",
        "plt.plot(epochs, loss, 'ro-', label='Training Loss')\n",
        "plt.plot(epochs, val_loss, 'go-', label = 'Validation Loss')\n",
        "plt.legend()"
      ],
      "execution_count": null,
      "outputs": [
        {
          "output_type": "execute_result",
          "data": {
            "text/plain": [
              "<matplotlib.legend.Legend at 0x215028cec08>"
            ]
          },
          "metadata": {
            "tags": []
          },
          "execution_count": 34
        },
        {
          "output_type": "display_data",
          "data": {
            "image/png": "[encoded data removed]",
            "text/plain": [
              "<Figure size 864x576 with 1 Axes>"
            ]
          },
          "metadata": {
            "tags": [],
            "needs_background": "light"
          }
        }
      ]
    },
    {
      "cell_type": "markdown",
      "metadata": {
        "id": "OOj4qMTDvt8T"
      },
      "source": [
        "The plot says it all.\n",
        "\n",
        "There is a *gradual decrease in both the training and validation loss*. Also, The difference between the training and validation loss is not very large, suggesting that our model is no longer overfitting the training data.\n",
        "\n",
        "---"
      ]
    },
    {
      "cell_type": "markdown",
      "metadata": {
        "id": "D4im4HfJvt8U"
      },
      "source": [
        "## Further processing of the data\n",
        "\n",
        "Till now, for each video we extracted 200 frames. But the approach to extract these frames is not very appropriate. What was being done is that from each video, **200 contiguous frames (8 seconds)** were being extracted. We know that the human body performs these activities (running, boxing etc.) with a certain speed. Within one second, the human body does not make much of a movement. Therefore, we do not need to collect each and every frame for each second of video that we are capturing. A different approach could be used, where only a certain number of frames are extraced for each second. \n",
        "\n",
        "So, suppose we have a video with a time duration of 10 seconds. With our previous approach, we would have extracted 10x25 = 250 frames. Then, we would have selected 200 frames from the middle (leaving out 25 frames from front and back).  \n",
        "But, with our new method, we would be extracting only a few frames per second (say 5). We would then have a total of 10x5 = 50 frames extracted. Also, we can still put a limit on the maximum number of frames that we want (say 40), then out of these 50 frames, 40 would be selected (from front, last or middle).\n",
        "\n",
        "We can therefore see that the **size of the data got reduced buy a large factor** (in this example, by 5 times). This could be a great advantage for our model training as our model would now take less time to train. Also, since we have saved some time here, we can improve the model by making it deeper (adding more layers). The model can still learn patterns from the training data accurately because **the data that we removed was just redundant**.\n",
        "\n",
        "The helper function `read_videos()` has the functionality to do this via a parameter called `required_fps`.\n",
        "\n",
        "- For our model, we would set the value of `required_fps` to **5**.\n",
        "- The range of normalized pixels has also been changed from [0, 1] to [-1, 1]. This is because the mean of the pixels would then be 0, which would *help the model converge faster*."
      ]
    },
    {
      "cell_type": "code",
      "metadata": {
        "ExecuteTime": {
          "end_time": "2021-03-15T07:30:10.950347Z",
          "start_time": "2021-03-15T07:30:10.942861Z"
        },
        "id": "112PYaOCvt8U"
      },
      "source": [
        "# Imports\n",
        "import numpy as np\n",
        "from keras.utils import to_categorical;\n",
        "from utils import Videos\n",
        "\n",
        "# An object of the class `Videos` to load the data in the required format\n",
        "reader = Videos(target_size=(128, 128), \n",
        "                to_gray=True, \n",
        "                max_frames=40, \n",
        "                extract_frames='first', \n",
        "                required_fps=5, \n",
        "                normalize_pixels=(-1, 1))"
      ],
      "execution_count": 33,
      "outputs": []
    },
    {
      "cell_type": "code",
      "metadata": {
        "ExecuteTime": {
          "end_time": "2021-03-15T07:31:45.407700Z",
          "start_time": "2021-03-15T07:30:11.320457Z"
        },
        "colab": {
          "base_uri": "https://localhost:8080/"
        },
        "id": "E3Yoni_cvt8U",
        "outputId": "9d535d83-64ac-4d67-f71c-8d3fdb600d95"
      },
      "source": [
        "# Reading training videos and one-hot encoding the training labels\n",
        "X_train = reader.read_videos(train_files)\n",
        "y_train = to_categorical(train_targets, num_classes=6)\n",
        "print('Shape of training data:', X_train.shape)\n",
        "print('Shape of training labels:', y_train.shape)"
      ],
      "execution_count": 34,
      "outputs": [
        {
          "output_type": "stream",
          "text": [
            "100%|██████████| 150/150 [01:31<00:00,  1.63it/s]\n"
          ],
          "name": "stderr"
        },
        {
          "output_type": "stream",
          "text": [
            "Shape of training data: (150, 40, 128, 128, 1)\n",
            "Shape of training labels: (150, 6)\n"
          ],
          "name": "stdout"
        }
      ]
    },
    {
      "cell_type": "code",
      "metadata": {
        "ExecuteTime": {
          "end_time": "2021-03-15T07:32:11.720316Z",
          "start_time": "2021-03-15T07:31:45.427066Z"
        },
        "colab": {
          "base_uri": "https://localhost:8080/"
        },
        "id": "vu_PO3ODvt8U",
        "outputId": "9fc8a41d-3489-4ba2-ec59-8a3688b70df0"
      },
      "source": [
        "# Reading validation videos and one-hot encoding the validation labels\n",
        "X_valid = reader.read_videos(valid_files)\n",
        "y_valid = to_categorical(valid_targets, num_classes=6)\n",
        "print('Shape of validation data:', X_valid.shape)\n",
        "print('Shape of validation labels:', y_valid.shape)"
      ],
      "execution_count": 35,
      "outputs": [
        {
          "output_type": "stream",
          "text": [
            "100%|██████████| 49/49 [00:32<00:00,  1.50it/s]\n"
          ],
          "name": "stderr"
        },
        {
          "output_type": "stream",
          "text": [
            "Shape of validation data: (49, 40, 128, 128, 1)\n",
            "Shape of validation labels: (49, 6)\n"
          ],
          "name": "stdout"
        }
      ]
    },
    {
      "cell_type": "code",
      "metadata": {
        "ExecuteTime": {
          "end_time": "2021-03-15T07:32:12.971534Z",
          "start_time": "2021-03-15T07:32:11.724306Z"
        },
        "colab": {
          "base_uri": "https://localhost:8080/"
        },
        "id": "zQ3kYc3cvt8V",
        "outputId": "411d147d-368c-4f67-dac0-aa3a66b7abe7"
      },
      "source": [
        "y_valid[:]"
      ],
      "execution_count": 36,
      "outputs": [
        {
          "output_type": "execute_result",
          "data": {
            "text/plain": [
              "array([[1., 0., 0., 0., 0., 0.],\n",
              "       [1., 0., 0., 0., 0., 0.],\n",
              "       [0., 1., 0., 0., 0., 0.],\n",
              "       [1., 0., 0., 0., 0., 0.],\n",
              "       [1., 0., 0., 0., 0., 0.],\n",
              "       [0., 0., 1., 0., 0., 0.],\n",
              "       [1., 0., 0., 0., 0., 0.],\n",
              "       [0., 0., 1., 0., 0., 0.],\n",
              "       [0., 0., 1., 0., 0., 0.],\n",
              "       [0., 1., 0., 0., 0., 0.],\n",
              "       [0., 1., 0., 0., 0., 0.],\n",
              "       [1., 0., 0., 0., 0., 0.],\n",
              "       [0., 1., 0., 0., 0., 0.],\n",
              "       [0., 0., 1., 0., 0., 0.],\n",
              "       [0., 0., 1., 0., 0., 0.],\n",
              "       [1., 0., 0., 0., 0., 0.],\n",
              "       [0., 1., 0., 0., 0., 0.],\n",
              "       [1., 0., 0., 0., 0., 0.],\n",
              "       [0., 1., 0., 0., 0., 0.],\n",
              "       [1., 0., 0., 0., 0., 0.],\n",
              "       [0., 1., 0., 0., 0., 0.],\n",
              "       [0., 0., 1., 0., 0., 0.],\n",
              "       [0., 1., 0., 0., 0., 0.],\n",
              "       [0., 1., 0., 0., 0., 0.],\n",
              "       [1., 0., 0., 0., 0., 0.],\n",
              "       [1., 0., 0., 0., 0., 0.],\n",
              "       [0., 1., 0., 0., 0., 0.],\n",
              "       [1., 0., 0., 0., 0., 0.],\n",
              "       [0., 1., 0., 0., 0., 0.],\n",
              "       [0., 1., 0., 0., 0., 0.],\n",
              "       [0., 0., 1., 0., 0., 0.],\n",
              "       [0., 0., 1., 0., 0., 0.],\n",
              "       [0., 0., 1., 0., 0., 0.],\n",
              "       [0., 1., 0., 0., 0., 0.],\n",
              "       [0., 1., 0., 0., 0., 0.],\n",
              "       [0., 1., 0., 0., 0., 0.],\n",
              "       [1., 0., 0., 0., 0., 0.],\n",
              "       [0., 0., 1., 0., 0., 0.],\n",
              "       [0., 0., 1., 0., 0., 0.],\n",
              "       [0., 1., 0., 0., 0., 0.],\n",
              "       [0., 0., 1., 0., 0., 0.],\n",
              "       [0., 1., 0., 0., 0., 0.],\n",
              "       [1., 0., 0., 0., 0., 0.],\n",
              "       [1., 0., 0., 0., 0., 0.],\n",
              "       [0., 0., 1., 0., 0., 0.],\n",
              "       [1., 0., 0., 0., 0., 0.],\n",
              "       [1., 0., 0., 0., 0., 0.],\n",
              "       [0., 1., 0., 0., 0., 0.],\n",
              "       [1., 0., 0., 0., 0., 0.]], dtype=float32)"
            ]
          },
          "metadata": {
            "tags": []
          },
          "execution_count": 36
        }
      ]
    },
    {
      "cell_type": "code",
      "metadata": {
        "ExecuteTime": {
          "end_time": "2021-03-15T07:33:12.514983Z",
          "start_time": "2021-03-15T07:32:12.975623Z"
        },
        "colab": {
          "base_uri": "https://localhost:8080/"
        },
        "id": "fsg61pLIvt8V",
        "outputId": "d3f562c1-81ca-49c2-b47e-f659eb142323"
      },
      "source": [
        "# Reading testing videos and one-hot encoding the testing labels\n",
        "X_test = reader.read_videos(test_files)\n",
        "y_test = to_categorical(test_targets, num_classes=6)\n",
        "print('Shape of testing data:', X_test.shape)\n",
        "print('Shape of testing labels:', y_test.shape)"
      ],
      "execution_count": 37,
      "outputs": [
        {
          "output_type": "stream",
          "text": [
            "100%|██████████| 100/100 [01:06<00:00,  1.51it/s]\n"
          ],
          "name": "stderr"
        },
        {
          "output_type": "stream",
          "text": [
            "Shape of testing data: (100, 40, 128, 128, 1)\n",
            "Shape of testing labels: (100, 6)\n"
          ],
          "name": "stdout"
        }
      ]
    },
    {
      "cell_type": "code",
      "metadata": {
        "ExecuteTime": {
          "end_time": "2021-03-15T07:33:12.595878Z",
          "start_time": "2021-03-15T07:33:12.528264Z"
        },
        "colab": {
          "base_uri": "https://localhost:8080/"
        },
        "id": "cq1MkpSovt8V",
        "outputId": "bf0a8456-d54e-4085-f515-24beee08d7f5"
      },
      "source": [
        "print(y_test)"
      ],
      "execution_count": 38,
      "outputs": [
        {
          "output_type": "stream",
          "text": [
            "[[1. 0. 0. 0. 0. 0.]\n",
            " [1. 0. 0. 0. 0. 0.]\n",
            " [1. 0. 0. 0. 0. 0.]\n",
            " [0. 1. 0. 0. 0. 0.]\n",
            " [0. 0. 1. 0. 0. 0.]\n",
            " [1. 0. 0. 0. 0. 0.]\n",
            " [0. 1. 0. 0. 0. 0.]\n",
            " [1. 0. 0. 0. 0. 0.]\n",
            " [0. 0. 1. 0. 0. 0.]\n",
            " [0. 0. 1. 0. 0. 0.]\n",
            " [0. 0. 1. 0. 0. 0.]\n",
            " [1. 0. 0. 0. 0. 0.]\n",
            " [1. 0. 0. 0. 0. 0.]\n",
            " [0. 1. 0. 0. 0. 0.]\n",
            " [0. 1. 0. 0. 0. 0.]\n",
            " [0. 1. 0. 0. 0. 0.]\n",
            " [0. 1. 0. 0. 0. 0.]\n",
            " [0. 1. 0. 0. 0. 0.]\n",
            " [0. 1. 0. 0. 0. 0.]\n",
            " [0. 1. 0. 0. 0. 0.]\n",
            " [1. 0. 0. 0. 0. 0.]\n",
            " [1. 0. 0. 0. 0. 0.]\n",
            " [0. 1. 0. 0. 0. 0.]\n",
            " [1. 0. 0. 0. 0. 0.]\n",
            " [0. 0. 1. 0. 0. 0.]\n",
            " [1. 0. 0. 0. 0. 0.]\n",
            " [0. 0. 1. 0. 0. 0.]\n",
            " [1. 0. 0. 0. 0. 0.]\n",
            " [1. 0. 0. 0. 0. 0.]\n",
            " [0. 0. 1. 0. 0. 0.]\n",
            " [0. 0. 1. 0. 0. 0.]\n",
            " [1. 0. 0. 0. 0. 0.]\n",
            " [0. 0. 1. 0. 0. 0.]\n",
            " [1. 0. 0. 0. 0. 0.]\n",
            " [0. 1. 0. 0. 0. 0.]\n",
            " [0. 1. 0. 0. 0. 0.]\n",
            " [0. 1. 0. 0. 0. 0.]\n",
            " [0. 1. 0. 0. 0. 0.]\n",
            " [0. 1. 0. 0. 0. 0.]\n",
            " [1. 0. 0. 0. 0. 0.]\n",
            " [0. 1. 0. 0. 0. 0.]\n",
            " [0. 0. 1. 0. 0. 0.]\n",
            " [0. 1. 0. 0. 0. 0.]\n",
            " [1. 0. 0. 0. 0. 0.]\n",
            " [0. 0. 1. 0. 0. 0.]\n",
            " [1. 0. 0. 0. 0. 0.]\n",
            " [0. 1. 0. 0. 0. 0.]\n",
            " [1. 0. 0. 0. 0. 0.]\n",
            " [0. 0. 1. 0. 0. 0.]\n",
            " [0. 0. 1. 0. 0. 0.]\n",
            " [0. 1. 0. 0. 0. 0.]\n",
            " [1. 0. 0. 0. 0. 0.]\n",
            " [0. 1. 0. 0. 0. 0.]\n",
            " [0. 0. 1. 0. 0. 0.]\n",
            " [0. 0. 1. 0. 0. 0.]\n",
            " [0. 0. 1. 0. 0. 0.]\n",
            " [1. 0. 0. 0. 0. 0.]\n",
            " [0. 1. 0. 0. 0. 0.]\n",
            " [0. 0. 1. 0. 0. 0.]\n",
            " [0. 1. 0. 0. 0. 0.]\n",
            " [1. 0. 0. 0. 0. 0.]\n",
            " [1. 0. 0. 0. 0. 0.]\n",
            " [1. 0. 0. 0. 0. 0.]\n",
            " [0. 0. 1. 0. 0. 0.]\n",
            " [0. 0. 1. 0. 0. 0.]\n",
            " [1. 0. 0. 0. 0. 0.]\n",
            " [0. 0. 1. 0. 0. 0.]\n",
            " [0. 1. 0. 0. 0. 0.]\n",
            " [1. 0. 0. 0. 0. 0.]\n",
            " [0. 0. 1. 0. 0. 0.]\n",
            " [0. 0. 1. 0. 0. 0.]\n",
            " [0. 0. 1. 0. 0. 0.]\n",
            " [0. 0. 1. 0. 0. 0.]\n",
            " [1. 0. 0. 0. 0. 0.]\n",
            " [0. 1. 0. 0. 0. 0.]\n",
            " [0. 0. 1. 0. 0. 0.]\n",
            " [0. 0. 1. 0. 0. 0.]\n",
            " [0. 1. 0. 0. 0. 0.]\n",
            " [0. 0. 1. 0. 0. 0.]\n",
            " [0. 0. 1. 0. 0. 0.]\n",
            " [0. 1. 0. 0. 0. 0.]\n",
            " [0. 0. 1. 0. 0. 0.]\n",
            " [0. 1. 0. 0. 0. 0.]\n",
            " [0. 0. 1. 0. 0. 0.]\n",
            " [0. 0. 1. 0. 0. 0.]\n",
            " [0. 1. 0. 0. 0. 0.]\n",
            " [0. 0. 1. 0. 0. 0.]\n",
            " [0. 0. 1. 0. 0. 0.]\n",
            " [0. 0. 1. 0. 0. 0.]\n",
            " [1. 0. 0. 0. 0. 0.]\n",
            " [0. 1. 0. 0. 0. 0.]\n",
            " [1. 0. 0. 0. 0. 0.]\n",
            " [0. 0. 1. 0. 0. 0.]\n",
            " [1. 0. 0. 0. 0. 0.]\n",
            " [0. 0. 1. 0. 0. 0.]\n",
            " [1. 0. 0. 0. 0. 0.]\n",
            " [1. 0. 0. 0. 0. 0.]\n",
            " [0. 0. 1. 0. 0. 0.]\n",
            " [0. 1. 0. 0. 0. 0.]\n",
            " [0. 0. 1. 0. 0. 0.]]\n"
          ],
          "name": "stdout"
        }
      ]
    },
    {
      "cell_type": "markdown",
      "metadata": {
        "id": "XDN9eqFJvt8W"
      },
      "source": [
        "### Model - 3\n",
        "\n",
        "This model has one more layer than the previous models, but it produces a deeper vector, thus better at enconding the content of the video than the previous models.\n",
        "\n",
        "The dense layers at the end are not changed and are same as that of *Model-2*."
      ]
    },
    {
      "cell_type": "code",
      "metadata": {
        "ExecuteTime": {
          "end_time": "2021-03-15T07:33:24.468210Z",
          "start_time": "2021-03-15T07:33:21.632952Z"
        },
        "colab": {
          "base_uri": "https://localhost:8080/"
        },
        "id": "FH0cl7uIvt8W",
        "outputId": "2297868d-26ed-4916-94b8-6649ce8dfd23"
      },
      "source": [
        "# Imports\n",
        "from keras.models import Sequential\n",
        "from keras.layers import Conv3D, MaxPooling3D, GlobalAveragePooling3D, BatchNormalization\n",
        "from keras.layers.core import Dense, Dropout\n",
        "\n",
        "# Using the Sequential Model\n",
        "model = Sequential()\n",
        "\n",
        "# Adding Alternate convolutional and pooling layers\n",
        "model.add(Conv3D(filters=16, kernel_size=(5, 3, 3), strides=(1, 1, 1), padding='same', activation='relu', \n",
        "                 input_shape=X_train.shape[1:]))\n",
        "model.add(MaxPooling3D(pool_size=2, strides=(2, 2, 2), padding='same'))\n",
        "\n",
        "model.add(Conv3D(filters=64, kernel_size=(2, 3, 3), strides=(1, 1, 1), padding='valid', activation='relu'))\n",
        "model.add(MaxPooling3D(pool_size=2, strides=(2, 2, 2), padding='same'))\n",
        "\n",
        "model.add(Conv3D(filters=256, kernel_size=(2, 3, 3), strides=(1, 1, 1), padding='valid', activation='relu'))\n",
        "model.add(MaxPooling3D(pool_size=2, strides=(2, 2, 2), padding='same'))\n",
        "\n",
        "model.add(Conv3D(filters=1024, kernel_size=(2, 3, 3), strides=(1, 1, 1), padding='valid', activation='relu'))\n",
        "model.add(MaxPooling3D(pool_size=2, strides=(2, 2, 2), padding='same'))\n",
        "\n",
        "# A global average pooling layer to get a 1-d vector\n",
        "# The vector will have a depth (same as number of elements in the vector) of 1024\n",
        "model.add(GlobalAveragePooling3D())\n",
        "\n",
        "# Hidden layer\n",
        "model.add(Dense(32, activation='relu'))\n",
        "\n",
        "# Dropout Layer\n",
        "model.add(Dropout(0.5))\n",
        "\n",
        "# Output layer\n",
        "model.add(Dense(6, activation='softmax'))\n",
        "\n",
        "model.summary()"
      ],
      "execution_count": 39,
      "outputs": [
        {
          "output_type": "stream",
          "text": [
            "Model: \"sequential_2\"\n",
            "_________________________________________________________________\n",
            "Layer (type)                 Output Shape              Param #   \n",
            "=================================================================\n",
            "conv3d_8 (Conv3D)            (None, 40, 128, 128, 16)  736       \n",
            "_________________________________________________________________\n",
            "max_pooling3d_8 (MaxPooling3 (None, 20, 64, 64, 16)    0         \n",
            "_________________________________________________________________\n",
            "conv3d_9 (Conv3D)            (None, 19, 62, 62, 64)    18496     \n",
            "_________________________________________________________________\n",
            "max_pooling3d_9 (MaxPooling3 (None, 10, 31, 31, 64)    0         \n",
            "_________________________________________________________________\n",
            "conv3d_10 (Conv3D)           (None, 9, 29, 29, 256)    295168    \n",
            "_________________________________________________________________\n",
            "max_pooling3d_10 (MaxPooling (None, 5, 15, 15, 256)    0         \n",
            "_________________________________________________________________\n",
            "conv3d_11 (Conv3D)           (None, 4, 13, 13, 1024)   4719616   \n",
            "_________________________________________________________________\n",
            "max_pooling3d_11 (MaxPooling (None, 2, 7, 7, 1024)     0         \n",
            "_________________________________________________________________\n",
            "global_average_pooling3d_2 ( (None, 1024)              0         \n",
            "_________________________________________________________________\n",
            "dense_4 (Dense)              (None, 32)                32800     \n",
            "_________________________________________________________________\n",
            "dropout_2 (Dropout)          (None, 32)                0         \n",
            "_________________________________________________________________\n",
            "dense_5 (Dense)              (None, 6)                 198       \n",
            "=================================================================\n",
            "Total params: 5,067,014\n",
            "Trainable params: 5,067,014\n",
            "Non-trainable params: 0\n",
            "_________________________________________________________________\n"
          ],
          "name": "stdout"
        }
      ]
    },
    {
      "cell_type": "markdown",
      "metadata": {
        "id": "3HtStATXvt8W"
      },
      "source": [
        "### Training Model - 3\n",
        "\n",
        "Training `Model-3` for 40 epochs on the training data and saving the weights of the model that performed the best on the validation data.\n",
        "\n",
        "Also, the optimizer used is `NADAM` instead of `ADAM`."
      ]
    },
    {
      "cell_type": "code",
      "metadata": {
        "ExecuteTime": {
          "end_time": "2021-03-15T11:17:52.212274Z",
          "start_time": "2021-03-15T10:29:56.404430Z"
        },
        "scrolled": false,
        "colab": {
          "base_uri": "https://localhost:8080/"
        },
        "id": "4YimQEs2vt8W",
        "outputId": "7a2dd76a-8950-4345-f4b5-032cf230ec39"
      },
      "source": [
        "# Imports\n",
        "from keras.callbacks import ModelCheckpoint\n",
        "\n",
        "# Compiling the model\n",
        "model.compile(loss='categorical_crossentropy', optimizer='nadam', metrics=['accuracy'])\n",
        "\n",
        "# Saving the model that performed the best on the validation set\n",
        "checkpoint = ModelCheckpoint(filepath='Model_3.weights.best.hdf5', save_best_only=True, verbose=1)\n",
        "1\n",
        "# Training the model for 40 epochs\n",
        "history = model.fit(X_train, y_train, batch_size=16, epochs=20, \n",
        "                    validation_data=(X_valid, y_valid), verbose=2, callbacks=[checkpoint])"
      ],
      "execution_count": null,
      "outputs": [
        {
          "output_type": "stream",
          "text": [
            "Epoch 1/20\n",
            "10/10 - 563s - loss: 0.5042 - accuracy: 0.8000 - val_loss: 0.1874 - val_accuracy: 0.9388\n",
            "\n",
            "Epoch 00001: val_loss improved from inf to 0.18745, saving model to Model_3.weights.best.hdf5\n",
            "Epoch 2/20\n",
            "10/10 - 579s - loss: 0.3897 - accuracy: 0.8200 - val_loss: 0.2368 - val_accuracy: 0.8980\n",
            "\n",
            "Epoch 00002: val_loss did not improve from 0.18745\n",
            "Epoch 3/20\n",
            "10/10 - 554s - loss: 0.4476 - accuracy: 0.8067 - val_loss: 0.2212 - val_accuracy: 0.9592\n",
            "\n",
            "Epoch 00003: val_loss did not improve from 0.18745\n",
            "Epoch 4/20\n",
            "10/10 - 554s - loss: 0.2673 - accuracy: 0.8800 - val_loss: 0.4532 - val_accuracy: 0.7959\n",
            "\n",
            "Epoch 00004: val_loss did not improve from 0.18745\n",
            "Epoch 5/20\n",
            "10/10 - 545s - loss: 0.4565 - accuracy: 0.7600 - val_loss: 0.2103 - val_accuracy: 0.9388\n",
            "\n",
            "Epoch 00005: val_loss did not improve from 0.18745\n",
            "Epoch 6/20\n",
            "10/10 - 539s - loss: 0.3695 - accuracy: 0.8667 - val_loss: 0.2380 - val_accuracy: 0.8571\n",
            "\n",
            "Epoch 00006: val_loss did not improve from 0.18745\n",
            "Epoch 7/20\n",
            "10/10 - 530s - loss: 0.3114 - accuracy: 0.8733 - val_loss: 0.1803 - val_accuracy: 0.9388\n",
            "\n",
            "Epoch 00007: val_loss improved from 0.18745 to 0.18033, saving model to Model_3.weights.best.hdf5\n",
            "Epoch 8/20\n"
          ],
          "name": "stdout"
        }
      ]
    },
    {
      "cell_type": "code",
      "metadata": {
        "id": "RI6I6NPzGYwi"
      },
      "source": [
        ""
      ],
      "execution_count": null,
      "outputs": []
    },
    {
      "cell_type": "code",
      "metadata": {
        "id": "mCbF31EaGY0Z"
      },
      "source": [
        ""
      ],
      "execution_count": null,
      "outputs": []
    },
    {
      "cell_type": "code",
      "metadata": {
        "id": "TgtVWkq2GY3n"
      },
      "source": [
        ""
      ],
      "execution_count": null,
      "outputs": []
    },
    {
      "cell_type": "markdown",
      "metadata": {
        "id": "tOJL-LVnvt8X"
      },
      "source": [
        "### Evaluating Model - 3\n",
        "\n",
        "Evaluating `Model-3` on the test data."
      ]
    },
    {
      "cell_type": "code",
      "metadata": {
        "ExecuteTime": {
          "end_time": "2021-03-15T11:19:14.389412Z",
          "start_time": "2021-03-15T11:17:58.206206Z"
        },
        "id": "uZ98OXpqvt8X",
        "colab": {
          "base_uri": "https://localhost:8080/"
        },
        "outputId": "3b2a9959-adf0-4a77-a1dc-20f3167f9c42"
      },
      "source": [
        "# Loading the model that performed the best on the validation set\n",
        "# Compiling the model\n",
        "model.compile(loss='categorical_crossentropy', optimizer='nadam', metrics=['accuracy'])\n",
        "model.load_weights('Model_3.weights.best.hdf5')\n",
        "\n",
        "# Testing the model on the Tes't data\n",
        "(loss, accuracy) = model.evaluate(X_test, y_test, batch_size=16, verbose=0)\n",
        "\n",
        "print('Accuracy on test data: {:.2f}%'.format(accuracy * 100))"
      ],
      "execution_count": 40,
      "outputs": [
        {
          "output_type": "stream",
          "text": [
            "Accuracy on test data: 91.00%\n"
          ],
          "name": "stdout"
        }
      ]
    },
    {
      "cell_type": "code",
      "metadata": {
        "ExecuteTime": {
          "end_time": "2021-03-15T11:20:47.362534Z",
          "start_time": "2021-03-15T11:20:47.341620Z"
        },
        "id": "c18CoVeJvt8X",
        "colab": {
          "base_uri": "https://localhost:8080/"
        },
        "outputId": "4aa2ac76-74f8-457d-8744-a2b3cb43bfc3"
      },
      "source": [
        "import tensorflow as tf\n",
        "print(\"num\",len(tf.config.experimental.list_logical_devices('GPU')))"
      ],
      "execution_count": null,
      "outputs": [
        {
          "output_type": "stream",
          "text": [
            "num 0\n"
          ],
          "name": "stdout"
        }
      ]
    },
    {
      "cell_type": "code",
      "metadata": {
        "ExecuteTime": {
          "end_time": "2021-03-15T11:28:32.490498Z",
          "start_time": "2021-03-15T11:27:08.141222Z"
        },
        "id": "qdQ21Dsyvt8Y",
        "colab": {
          "base_uri": "https://localhost:8080/",
          "height": 418
        },
        "outputId": "7dac052a-2773-4f49-b063-a6e4adf3e0e6"
      },
      "source": [
        "model.load_weights('Model_3.weights.best.hdf5')\n",
        "model.predict_classes(X_test)\n"
      ],
      "execution_count": 22,
      "outputs": [
        {
          "output_type": "error",
          "ename": "OSError",
          "evalue": "ignored",
          "traceback": [
            "\u001b[0;31m---------------------------------------------------------------------------\u001b[0m",
            "\u001b[0;31mOSError\u001b[0m                                   Traceback (most recent call last)",
            "\u001b[0;32m<ipython-input-22-4d8d5ec2f472>\u001b[0m in \u001b[0;36m<module>\u001b[0;34m()\u001b[0m\n\u001b[0;32m----> 1\u001b[0;31m \u001b[0mmodel\u001b[0m\u001b[0;34m.\u001b[0m\u001b[0mload_weights\u001b[0m\u001b[0;34m(\u001b[0m\u001b[0;34m'Model_3.weights.best.hdf5'\u001b[0m\u001b[0;34m)\u001b[0m\u001b[0;34m\u001b[0m\u001b[0;34m\u001b[0m\u001b[0m\n\u001b[0m\u001b[1;32m      2\u001b[0m \u001b[0mmodel\u001b[0m\u001b[0;34m.\u001b[0m\u001b[0mpredict_classes\u001b[0m\u001b[0;34m(\u001b[0m\u001b[0mX_test\u001b[0m\u001b[0;34m)\u001b[0m\u001b[0;34m\u001b[0m\u001b[0;34m\u001b[0m\u001b[0m\n",
            "\u001b[0;32m/usr/local/lib/python3.7/dist-packages/tensorflow/python/keras/engine/training.py\u001b[0m in \u001b[0;36mload_weights\u001b[0;34m(self, filepath, by_name, skip_mismatch, options)\u001b[0m\n\u001b[1;32m   2225\u001b[0m           'first, then load the weights.')\n\u001b[1;32m   2226\u001b[0m     \u001b[0mself\u001b[0m\u001b[0;34m.\u001b[0m\u001b[0m_assert_weights_created\u001b[0m\u001b[0;34m(\u001b[0m\u001b[0;34m)\u001b[0m\u001b[0;34m\u001b[0m\u001b[0;34m\u001b[0m\u001b[0m\n\u001b[0;32m-> 2227\u001b[0;31m     \u001b[0;32mwith\u001b[0m \u001b[0mh5py\u001b[0m\u001b[0;34m.\u001b[0m\u001b[0mFile\u001b[0m\u001b[0;34m(\u001b[0m\u001b[0mfilepath\u001b[0m\u001b[0;34m,\u001b[0m \u001b[0;34m'r'\u001b[0m\u001b[0;34m)\u001b[0m \u001b[0;32mas\u001b[0m \u001b[0mf\u001b[0m\u001b[0;34m:\u001b[0m\u001b[0;34m\u001b[0m\u001b[0;34m\u001b[0m\u001b[0m\n\u001b[0m\u001b[1;32m   2228\u001b[0m       \u001b[0;32mif\u001b[0m \u001b[0;34m'layer_names'\u001b[0m \u001b[0;32mnot\u001b[0m \u001b[0;32min\u001b[0m \u001b[0mf\u001b[0m\u001b[0;34m.\u001b[0m\u001b[0mattrs\u001b[0m \u001b[0;32mand\u001b[0m \u001b[0;34m'model_weights'\u001b[0m \u001b[0;32min\u001b[0m \u001b[0mf\u001b[0m\u001b[0;34m:\u001b[0m\u001b[0;34m\u001b[0m\u001b[0;34m\u001b[0m\u001b[0m\n\u001b[1;32m   2229\u001b[0m         \u001b[0mf\u001b[0m \u001b[0;34m=\u001b[0m \u001b[0mf\u001b[0m\u001b[0;34m[\u001b[0m\u001b[0;34m'model_weights'\u001b[0m\u001b[0;34m]\u001b[0m\u001b[0;34m\u001b[0m\u001b[0;34m\u001b[0m\u001b[0m\n",
            "\u001b[0;32m/usr/local/lib/python3.7/dist-packages/h5py/_hl/files.py\u001b[0m in \u001b[0;36m__init__\u001b[0;34m(self, name, mode, driver, libver, userblock_size, swmr, rdcc_nslots, rdcc_nbytes, rdcc_w0, track_order, **kwds)\u001b[0m\n\u001b[1;32m    406\u001b[0m                 fid = make_fid(name, mode, userblock_size,\n\u001b[1;32m    407\u001b[0m                                \u001b[0mfapl\u001b[0m\u001b[0;34m,\u001b[0m \u001b[0mfcpl\u001b[0m\u001b[0;34m=\u001b[0m\u001b[0mmake_fcpl\u001b[0m\u001b[0;34m(\u001b[0m\u001b[0mtrack_order\u001b[0m\u001b[0;34m=\u001b[0m\u001b[0mtrack_order\u001b[0m\u001b[0;34m)\u001b[0m\u001b[0;34m,\u001b[0m\u001b[0;34m\u001b[0m\u001b[0;34m\u001b[0m\u001b[0m\n\u001b[0;32m--> 408\u001b[0;31m                                swmr=swmr)\n\u001b[0m\u001b[1;32m    409\u001b[0m \u001b[0;34m\u001b[0m\u001b[0m\n\u001b[1;32m    410\u001b[0m             \u001b[0;32mif\u001b[0m \u001b[0misinstance\u001b[0m\u001b[0;34m(\u001b[0m\u001b[0mlibver\u001b[0m\u001b[0;34m,\u001b[0m \u001b[0mtuple\u001b[0m\u001b[0;34m)\u001b[0m\u001b[0;34m:\u001b[0m\u001b[0;34m\u001b[0m\u001b[0;34m\u001b[0m\u001b[0m\n",
            "\u001b[0;32m/usr/local/lib/python3.7/dist-packages/h5py/_hl/files.py\u001b[0m in \u001b[0;36mmake_fid\u001b[0;34m(name, mode, userblock_size, fapl, fcpl, swmr)\u001b[0m\n\u001b[1;32m    171\u001b[0m         \u001b[0;32mif\u001b[0m \u001b[0mswmr\u001b[0m \u001b[0;32mand\u001b[0m \u001b[0mswmr_support\u001b[0m\u001b[0;34m:\u001b[0m\u001b[0;34m\u001b[0m\u001b[0;34m\u001b[0m\u001b[0m\n\u001b[1;32m    172\u001b[0m             \u001b[0mflags\u001b[0m \u001b[0;34m|=\u001b[0m \u001b[0mh5f\u001b[0m\u001b[0;34m.\u001b[0m\u001b[0mACC_SWMR_READ\u001b[0m\u001b[0;34m\u001b[0m\u001b[0;34m\u001b[0m\u001b[0m\n\u001b[0;32m--> 173\u001b[0;31m         \u001b[0mfid\u001b[0m \u001b[0;34m=\u001b[0m \u001b[0mh5f\u001b[0m\u001b[0;34m.\u001b[0m\u001b[0mopen\u001b[0m\u001b[0;34m(\u001b[0m\u001b[0mname\u001b[0m\u001b[0;34m,\u001b[0m \u001b[0mflags\u001b[0m\u001b[0;34m,\u001b[0m \u001b[0mfapl\u001b[0m\u001b[0;34m=\u001b[0m\u001b[0mfapl\u001b[0m\u001b[0;34m)\u001b[0m\u001b[0;34m\u001b[0m\u001b[0;34m\u001b[0m\u001b[0m\n\u001b[0m\u001b[1;32m    174\u001b[0m     \u001b[0;32melif\u001b[0m \u001b[0mmode\u001b[0m \u001b[0;34m==\u001b[0m \u001b[0;34m'r+'\u001b[0m\u001b[0;34m:\u001b[0m\u001b[0;34m\u001b[0m\u001b[0;34m\u001b[0m\u001b[0m\n\u001b[1;32m    175\u001b[0m         \u001b[0mfid\u001b[0m \u001b[0;34m=\u001b[0m \u001b[0mh5f\u001b[0m\u001b[0;34m.\u001b[0m\u001b[0mopen\u001b[0m\u001b[0;34m(\u001b[0m\u001b[0mname\u001b[0m\u001b[0;34m,\u001b[0m \u001b[0mh5f\u001b[0m\u001b[0;34m.\u001b[0m\u001b[0mACC_RDWR\u001b[0m\u001b[0;34m,\u001b[0m \u001b[0mfapl\u001b[0m\u001b[0;34m=\u001b[0m\u001b[0mfapl\u001b[0m\u001b[0;34m)\u001b[0m\u001b[0;34m\u001b[0m\u001b[0;34m\u001b[0m\u001b[0m\n",
            "\u001b[0;32mh5py/_objects.pyx\u001b[0m in \u001b[0;36mh5py._objects.with_phil.wrapper\u001b[0;34m()\u001b[0m\n",
            "\u001b[0;32mh5py/_objects.pyx\u001b[0m in \u001b[0;36mh5py._objects.with_phil.wrapper\u001b[0;34m()\u001b[0m\n",
            "\u001b[0;32mh5py/h5f.pyx\u001b[0m in \u001b[0;36mh5py.h5f.open\u001b[0;34m()\u001b[0m\n",
            "\u001b[0;31mOSError\u001b[0m: Unable to open file (truncated file: eof = 51380224, sblock->base_addr = 0, stored_eof = 60868072)"
          ]
        }
      ]
    },
    {
      "cell_type": "markdown",
      "metadata": {
        "id": "hbdM5gj7vt8Y"
      },
      "source": [
        "## Model - 3 Performance\n",
        "\n",
        "The model gave an **Accuracy of 64.5% on the test data**.\n",
        "\n",
        "This time, the model gave a higher accuracy than the previous models, despite using 5 times lesser data for training.\n",
        "\n",
        "### Learning Curve"
      ]
    },
    {
      "cell_type": "code",
      "metadata": {
        "ExecuteTime": {
          "end_time": "2021-03-10T11:13:33.259224Z",
          "start_time": "2021-03-10T11:13:33.065700Z"
        },
        "id": "77HZ7fFIvt8Z",
        "colab": {
          "base_uri": "https://localhost:8080/",
          "height": 839
        },
        "outputId": "88e7fa98-2b8d-4a0e-9667-91abee0ba610"
      },
      "source": [
        "# Making the plot larger\n",
        "plt.figure(figsize=(12, 8))\n",
        "\n",
        "loss = history.history['loss']                          # Loss on the training data\n",
        "val_loss = history.history['val_loss']                  # Loss on the validation data\n",
        "epochs = range(1, 13)\n",
        "\n",
        "plt.plot(epochs, loss, 'ro-', label='Training Loss')\n",
        "plt.plot(epochs, val_loss, 'go-', label = 'Validation Loss')\n",
        "plt.legend()"
      ],
      "execution_count": null,
      "outputs": [
        {
          "output_type": "error",
          "ename": "ValueError",
          "evalue": "ignored",
          "traceback": [
            "\u001b[0;31m---------------------------------------------------------------------------\u001b[0m",
            "\u001b[0;31mValueError\u001b[0m                                Traceback (most recent call last)",
            "\u001b[0;32m<ipython-input-19-818945600d97>\u001b[0m in \u001b[0;36m<module>\u001b[0;34m()\u001b[0m\n\u001b[1;32m      6\u001b[0m \u001b[0mepochs\u001b[0m \u001b[0;34m=\u001b[0m \u001b[0mrange\u001b[0m\u001b[0;34m(\u001b[0m\u001b[0;36m1\u001b[0m\u001b[0;34m,\u001b[0m \u001b[0;36m13\u001b[0m\u001b[0;34m)\u001b[0m\u001b[0;34m\u001b[0m\u001b[0;34m\u001b[0m\u001b[0m\n\u001b[1;32m      7\u001b[0m \u001b[0;34m\u001b[0m\u001b[0m\n\u001b[0;32m----> 8\u001b[0;31m \u001b[0mplt\u001b[0m\u001b[0;34m.\u001b[0m\u001b[0mplot\u001b[0m\u001b[0;34m(\u001b[0m\u001b[0mepochs\u001b[0m\u001b[0;34m,\u001b[0m \u001b[0mloss\u001b[0m\u001b[0;34m,\u001b[0m \u001b[0;34m'ro-'\u001b[0m\u001b[0;34m,\u001b[0m \u001b[0mlabel\u001b[0m\u001b[0;34m=\u001b[0m\u001b[0;34m'Training Loss'\u001b[0m\u001b[0;34m)\u001b[0m\u001b[0;34m\u001b[0m\u001b[0;34m\u001b[0m\u001b[0m\n\u001b[0m\u001b[1;32m      9\u001b[0m \u001b[0mplt\u001b[0m\u001b[0;34m.\u001b[0m\u001b[0mplot\u001b[0m\u001b[0;34m(\u001b[0m\u001b[0mepochs\u001b[0m\u001b[0;34m,\u001b[0m \u001b[0mval_loss\u001b[0m\u001b[0;34m,\u001b[0m \u001b[0;34m'go-'\u001b[0m\u001b[0;34m,\u001b[0m \u001b[0mlabel\u001b[0m \u001b[0;34m=\u001b[0m \u001b[0;34m'Validation Loss'\u001b[0m\u001b[0;34m)\u001b[0m\u001b[0;34m\u001b[0m\u001b[0;34m\u001b[0m\u001b[0m\n\u001b[1;32m     10\u001b[0m \u001b[0mplt\u001b[0m\u001b[0;34m.\u001b[0m\u001b[0mlegend\u001b[0m\u001b[0;34m(\u001b[0m\u001b[0;34m)\u001b[0m\u001b[0;34m\u001b[0m\u001b[0;34m\u001b[0m\u001b[0m\n",
            "\u001b[0;32m/usr/local/lib/python3.7/dist-packages/matplotlib/pyplot.py\u001b[0m in \u001b[0;36mplot\u001b[0;34m(scalex, scaley, data, *args, **kwargs)\u001b[0m\n\u001b[1;32m   2761\u001b[0m     return gca().plot(\n\u001b[1;32m   2762\u001b[0m         *args, scalex=scalex, scaley=scaley, **({\"data\": data} if data\n\u001b[0;32m-> 2763\u001b[0;31m         is not None else {}), **kwargs)\n\u001b[0m\u001b[1;32m   2764\u001b[0m \u001b[0;34m\u001b[0m\u001b[0m\n\u001b[1;32m   2765\u001b[0m \u001b[0;34m\u001b[0m\u001b[0m\n",
            "\u001b[0;32m/usr/local/lib/python3.7/dist-packages/matplotlib/axes/_axes.py\u001b[0m in \u001b[0;36mplot\u001b[0;34m(self, scalex, scaley, data, *args, **kwargs)\u001b[0m\n\u001b[1;32m   1645\u001b[0m         \"\"\"\n\u001b[1;32m   1646\u001b[0m         \u001b[0mkwargs\u001b[0m \u001b[0;34m=\u001b[0m \u001b[0mcbook\u001b[0m\u001b[0;34m.\u001b[0m\u001b[0mnormalize_kwargs\u001b[0m\u001b[0;34m(\u001b[0m\u001b[0mkwargs\u001b[0m\u001b[0;34m,\u001b[0m \u001b[0mmlines\u001b[0m\u001b[0;34m.\u001b[0m\u001b[0mLine2D\u001b[0m\u001b[0;34m)\u001b[0m\u001b[0;34m\u001b[0m\u001b[0;34m\u001b[0m\u001b[0m\n\u001b[0;32m-> 1647\u001b[0;31m         \u001b[0mlines\u001b[0m \u001b[0;34m=\u001b[0m \u001b[0;34m[\u001b[0m\u001b[0;34m*\u001b[0m\u001b[0mself\u001b[0m\u001b[0;34m.\u001b[0m\u001b[0m_get_lines\u001b[0m\u001b[0;34m(\u001b[0m\u001b[0;34m*\u001b[0m\u001b[0margs\u001b[0m\u001b[0;34m,\u001b[0m \u001b[0mdata\u001b[0m\u001b[0;34m=\u001b[0m\u001b[0mdata\u001b[0m\u001b[0;34m,\u001b[0m \u001b[0;34m**\u001b[0m\u001b[0mkwargs\u001b[0m\u001b[0;34m)\u001b[0m\u001b[0;34m]\u001b[0m\u001b[0;34m\u001b[0m\u001b[0;34m\u001b[0m\u001b[0m\n\u001b[0m\u001b[1;32m   1648\u001b[0m         \u001b[0;32mfor\u001b[0m \u001b[0mline\u001b[0m \u001b[0;32min\u001b[0m \u001b[0mlines\u001b[0m\u001b[0;34m:\u001b[0m\u001b[0;34m\u001b[0m\u001b[0;34m\u001b[0m\u001b[0m\n\u001b[1;32m   1649\u001b[0m             \u001b[0mself\u001b[0m\u001b[0;34m.\u001b[0m\u001b[0madd_line\u001b[0m\u001b[0;34m(\u001b[0m\u001b[0mline\u001b[0m\u001b[0;34m)\u001b[0m\u001b[0;34m\u001b[0m\u001b[0;34m\u001b[0m\u001b[0m\n",
            "\u001b[0;32m/usr/local/lib/python3.7/dist-packages/matplotlib/axes/_base.py\u001b[0m in \u001b[0;36m__call__\u001b[0;34m(self, *args, **kwargs)\u001b[0m\n\u001b[1;32m    214\u001b[0m                 \u001b[0mthis\u001b[0m \u001b[0;34m+=\u001b[0m \u001b[0margs\u001b[0m\u001b[0;34m[\u001b[0m\u001b[0;36m0\u001b[0m\u001b[0;34m]\u001b[0m\u001b[0;34m,\u001b[0m\u001b[0;34m\u001b[0m\u001b[0;34m\u001b[0m\u001b[0m\n\u001b[1;32m    215\u001b[0m                 \u001b[0margs\u001b[0m \u001b[0;34m=\u001b[0m \u001b[0margs\u001b[0m\u001b[0;34m[\u001b[0m\u001b[0;36m1\u001b[0m\u001b[0;34m:\u001b[0m\u001b[0;34m]\u001b[0m\u001b[0;34m\u001b[0m\u001b[0;34m\u001b[0m\u001b[0m\n\u001b[0;32m--> 216\u001b[0;31m             \u001b[0;32myield\u001b[0m \u001b[0;32mfrom\u001b[0m \u001b[0mself\u001b[0m\u001b[0;34m.\u001b[0m\u001b[0m_plot_args\u001b[0m\u001b[0;34m(\u001b[0m\u001b[0mthis\u001b[0m\u001b[0;34m,\u001b[0m \u001b[0mkwargs\u001b[0m\u001b[0;34m)\u001b[0m\u001b[0;34m\u001b[0m\u001b[0;34m\u001b[0m\u001b[0m\n\u001b[0m\u001b[1;32m    217\u001b[0m \u001b[0;34m\u001b[0m\u001b[0m\n\u001b[1;32m    218\u001b[0m     \u001b[0;32mdef\u001b[0m \u001b[0mget_next_color\u001b[0m\u001b[0;34m(\u001b[0m\u001b[0mself\u001b[0m\u001b[0;34m)\u001b[0m\u001b[0;34m:\u001b[0m\u001b[0;34m\u001b[0m\u001b[0;34m\u001b[0m\u001b[0m\n",
            "\u001b[0;32m/usr/local/lib/python3.7/dist-packages/matplotlib/axes/_base.py\u001b[0m in \u001b[0;36m_plot_args\u001b[0;34m(self, tup, kwargs)\u001b[0m\n\u001b[1;32m    340\u001b[0m \u001b[0;34m\u001b[0m\u001b[0m\n\u001b[1;32m    341\u001b[0m         \u001b[0;32mif\u001b[0m \u001b[0mx\u001b[0m\u001b[0;34m.\u001b[0m\u001b[0mshape\u001b[0m\u001b[0;34m[\u001b[0m\u001b[0;36m0\u001b[0m\u001b[0;34m]\u001b[0m \u001b[0;34m!=\u001b[0m \u001b[0my\u001b[0m\u001b[0;34m.\u001b[0m\u001b[0mshape\u001b[0m\u001b[0;34m[\u001b[0m\u001b[0;36m0\u001b[0m\u001b[0;34m]\u001b[0m\u001b[0;34m:\u001b[0m\u001b[0;34m\u001b[0m\u001b[0;34m\u001b[0m\u001b[0m\n\u001b[0;32m--> 342\u001b[0;31m             raise ValueError(f\"x and y must have same first dimension, but \"\n\u001b[0m\u001b[1;32m    343\u001b[0m                              f\"have shapes {x.shape} and {y.shape}\")\n\u001b[1;32m    344\u001b[0m         \u001b[0;32mif\u001b[0m \u001b[0mx\u001b[0m\u001b[0;34m.\u001b[0m\u001b[0mndim\u001b[0m \u001b[0;34m>\u001b[0m \u001b[0;36m2\u001b[0m \u001b[0;32mor\u001b[0m \u001b[0my\u001b[0m\u001b[0;34m.\u001b[0m\u001b[0mndim\u001b[0m \u001b[0;34m>\u001b[0m \u001b[0;36m2\u001b[0m\u001b[0;34m:\u001b[0m\u001b[0;34m\u001b[0m\u001b[0;34m\u001b[0m\u001b[0m\n",
            "\u001b[0;31mValueError\u001b[0m: x and y must have same first dimension, but have shapes (12,) and (5,)"
          ]
        },
        {
          "output_type": "display_data",
          "data": {
            "image/png": "[encoded data removed]",
            "text/plain": [
              "<Figure size 864x576 with 1 Axes>"
            ]
          },
          "metadata": {
            "tags": [],
            "needs_background": "light"
          }
        }
      ]
    },
    {
      "cell_type": "markdown",
      "metadata": {
        "id": "DZJVDNvAvt8Z"
      },
      "source": [
        "From the learning curve, it is evident that the model did not overfit the data, and if it would have been trained more, the model could have performed better. The model gave an accuracy of 64.5% on the test data, which is the highest among the three models."
      ]
    },
    {
      "cell_type": "markdown",
      "metadata": {
        "collapsed": true,
        "id": "ihgfbauDvt8Z"
      },
      "source": [
        "## Comparision with the Benchmark Model\n",
        "\n",
        "Finally, we will compare our model (`Model-3`) with the benchmark model that we selected. **The benchmark model used a test data of 9 persons**. So, *we will select the videos of 9 persons (randomly) performing each of these actions*. We will then predict the outcomes of these videos using our model. In order to compare our model with the benchmark model, we would use the confusion matrix of these models.\n",
        "\n",
        "    Note: \n",
        "    The instructions on the selection of these 9 persons was not available, therefore they have been selected randomly."
      ]
    },
    {
      "cell_type": "code",
      "metadata": {
        "ExecuteTime": {
          "end_time": "2021-03-10T12:53:08.048881Z",
          "start_time": "2021-03-10T12:53:08.012561Z"
        },
        "id": "fCmJf96jvt8a"
      },
      "source": [
        "# Imports\n",
        "import numpy as np\n",
        "np.random.seed(141)\n",
        "\n",
        "# Choosing 9 random persons (unique)\n",
        "people = np.arange(1, 26)\n",
        "chosen = np.random.choice(people, 9, replace=False)\n",
        "\n",
        "print('The following people are chosen:', chosen)\n",
        "\n",
        "# Selecting the paths of all the videos of these persons from our entire dataset\n",
        "bench_files = []\n",
        "indexes = []\n",
        "for index in chosen:\n",
        "    for i, path in enumerate(raw_data['filenames']):\n",
        "        if (('person' + str(index)) in path) or (('person0' + str(index)) in path):\n",
        "            bench_files.append(path)\n",
        "            indexes.append(i)\n",
        "            \n",
        "bench_files = np.array(bench_files)\n",
        "bench_targets = raw_data['target'][indexes]\n",
        "print(bench_files.shape)"
      ],
      "execution_count": null,
      "outputs": []
    },
    {
      "cell_type": "markdown",
      "metadata": {
        "id": "0E4VoFjevt8a"
      },
      "source": [
        "### Reading in the data in the same format that was used before"
      ]
    },
    {
      "cell_type": "code",
      "metadata": {
        "ExecuteTime": {
          "end_time": "2021-03-10T11:13:48.966048Z",
          "start_time": "2021-03-10T11:13:48.954061Z"
        },
        "id": "afIX1MvHvt8a"
      },
      "source": [
        "# Imports\n",
        "import numpy as np\n",
        "from keras.utils import to_categorical\n",
        "from utils import Videos\n",
        "\n",
        "# An object of the class `Videos` to load the data in the required format\n",
        "reader = Videos(target_size=(128, 128), \n",
        "                to_gray=True, \n",
        "                max_frames=40, \n",
        "                extract_frames='first', \n",
        "                required_fps=5, \n",
        "                normalize_pixels=(-1, 1))"
      ],
      "execution_count": null,
      "outputs": []
    },
    {
      "cell_type": "code",
      "metadata": {
        "ExecuteTime": {
          "end_time": "2021-03-10T11:14:13.320017Z",
          "start_time": "2021-03-10T11:13:49.673104Z"
        },
        "id": "8oFtfTQ-vt8b"
      },
      "source": [
        "bench_video = reader.read_videos(bench_files)\n",
        "bench_target = to_categorical(bench_targets, num_classes=2)\n",
        "print('Shape of training data:', bench_video.shape)\n",
        "print('Shape of training labels:', bench_target.shape)"
      ],
      "execution_count": null,
      "outputs": []
    },
    {
      "cell_type": "markdown",
      "metadata": {
        "id": "8WmhtosUvt8b"
      },
      "source": [
        "So, now we have 216 videos (24 videos for each of the 9 person). We will load our model and evaluate the performance of the model on this data."
      ]
    },
    {
      "cell_type": "code",
      "metadata": {
        "ExecuteTime": {
          "end_time": "2021-03-10T11:15:28.629313Z",
          "start_time": "2021-03-10T11:14:34.652027Z"
        },
        "id": "uEzXE4Fevt8b"
      },
      "source": [
        "# Loading the model that performed the best on the validation set\n",
        "model.load_weights('Model_3.weights.best.hdf5')\n",
        "\n",
        "# Testing the model on the Test data\n",
        "(loss, accuracy) = model.evaluate(bench_video, bench_target, batch_size=16, verbose=0)\n",
        "\n",
        "print('Accuracy on test data: {:.2f}%'.format(accuracy * 100))"
      ],
      "execution_count": null,
      "outputs": []
    },
    {
      "cell_type": "markdown",
      "metadata": {
        "id": "Xkoic5X8vt8c"
      },
      "source": [
        "The model gave an **accuracy of ~69%** on the data of 9 persons."
      ]
    },
    {
      "cell_type": "markdown",
      "metadata": {
        "collapsed": true,
        "id": "ku8c9Keqvt8c"
      },
      "source": [
        "## The Benchmark Model\n",
        "\n",
        "The following model is used as a benchmark - [Recognizing Human Actions: A Local SVM Approach](http://ftp.nada.kth.se/CVAP/users/laptev/icpr04actions.pdf)\n",
        "\n",
        "Below is the confusion matrix obtained from this model:\n",
        "![Benchmark Confusion Matrix](images/benchmark_result.PNG)\n",
        "\n",
        "The confusion matrix has been normalized (the sum of each row is equal to 100).\n",
        "\n",
        "- We would have modify the order of classes of the confusion matrix. \n",
        "- Also, we will get the values in range [0, 1] (by dividing by 100).  \n",
        "This is done so as to *simplify the comparision of the confusion matrix with that of our model*."
      ]
    },
    {
      "cell_type": "code",
      "metadata": {
        "collapsed": true,
        "id": "55_ROXdlvt8c"
      },
      "source": [
        "# Changed the sequence of the classes\n",
        "benchmark_cnf_matrix = [\n",
        "    [0.979, 0.07, 0.07, 0.0, 0.0, 0.07], \n",
        "    [0.354, 0.597, 0.035, 0.0, 0.0, 0.014], \n",
        "    [0.208, 0.049, 0.736, 0.0, 0.0, 0.07], \n",
        "    [0.0, 0.0, 0.0, 0.604, 0.167, 0.229], \n",
        "    [0.0, 0.0, 0.0, 0.389, 0.549, 0.063], \n",
        "    [0.0, 0.0, 0.0, 0.162, 0.0, 0.838]\n",
        "]\n",
        "\n",
        "benchmark_cnf_matrix = np.array(benchmark_cnf_matrix)"
      ],
      "execution_count": null,
      "outputs": []
    },
    {
      "cell_type": "markdown",
      "metadata": {
        "id": "5hlRspfwvt8c"
      },
      "source": [
        "#### Below is a function for plotting the confusion matrix of the Benchmark model.\n",
        "The code is taken from [here](http://scikit-learn.org/stable/auto_examples/model_selection/plot_confusion_matrix.html#sphx-glr-auto-examples-model-selection-plot-confusion-matrix-py)"
      ]
    },
    {
      "cell_type": "code",
      "metadata": {
        "collapsed": true,
        "id": "K7-5N8lbvt8d"
      },
      "source": [
        "import itertools\n",
        "def confusion_matrix_plot(cm, classes, \n",
        "                          title='Normalized Confusion Matrix', \n",
        "                          normalize=False, \n",
        "                          cmap=plt.cm.Blues):\n",
        "    \"\"\"\n",
        "    This function prints and plots the confusion matrix.\n",
        "    Normalization can be applied by setting `normalize=True`.\n",
        "    \"\"\"\n",
        "\n",
        "    if normalize:\n",
        "        cm = cm.astype('float') / cm.sum(axis=1)[:, np.newaxis]\n",
        "        cm = np.around(cm, decimals=2)\n",
        "        cm[np.isnan(cm)] = 0.0\n",
        "    plt.subplots(1, 1, figsize=(8, 8))\n",
        "    plt.imshow(cm, interpolation='nearest', cmap=cmap)\n",
        "    plt.title(title)\n",
        "    plt.colorbar()\n",
        "    tick_marks = np.arange(len(classes))\n",
        "    plt.xticks(tick_marks, classes, rotation=45)\n",
        "    plt.yticks(tick_marks, classes)\n",
        "\n",
        "    fmt = '.2f'\n",
        "    thresh = cm.max() / 2.\n",
        "    for i, j in itertools.product(range(cm.shape[0]), range(cm.shape[1])):\n",
        "        plt.text(j, i, format(cm[i, j], fmt),\n",
        "                 horizontalalignment=\"center\",\n",
        "                 color=\"white\" if cm[i, j] > thresh else \"black\")\n",
        "\n",
        "    plt.tight_layout()\n",
        "    plt.ylabel('True label')\n",
        "    plt.xlabel('Predicted label')"
      ],
      "execution_count": null,
      "outputs": []
    },
    {
      "cell_type": "markdown",
      "metadata": {
        "id": "JsQ3T26Dvt8d"
      },
      "source": [
        "### Confusion Matrix of the Benchmark Model"
      ]
    },
    {
      "cell_type": "code",
      "metadata": {
        "id": "Rn-D-48Evt8d"
      },
      "source": [
        "# Plotting the Confusion matrix of the Benchmark Model\n",
        "confusion_matrix_plot(benchmark_cnf_matrix, \n",
        "                      classes=['boxing', 'handclapping', 'handwaving', 'jogging', 'running', 'walking'])"
      ],
      "execution_count": null,
      "outputs": []
    },
    {
      "cell_type": "markdown",
      "metadata": {
        "id": "9PHtOgBQvt8d"
      },
      "source": [
        "### Confusion matrix of our Model (`Model-3`)"
      ]
    },
    {
      "cell_type": "code",
      "metadata": {
        "id": "NIw1meJgvt8e"
      },
      "source": [
        "# Imports\n",
        "from sklearn.metrics import confusion_matrix\n",
        "\n",
        "# Getting the predictions of our Model\n",
        "predictions = model.predict_classes(bench_video)\n",
        "\n",
        "# Constructing the Confusion Matrix\n",
        "model_cnf_matrix = confusion_matrix(bench_targets, predictions)\n",
        "\n",
        "# PLotting the confusion matrix of our model\n",
        "confusion_matrix_plot = confusion_matrix_plot(model_cnf_matrix, \n",
        "                                              classes=['boxing', 'handclapping', 'handwaving', 'jogging', 'running', 'walking'], \n",
        "                                              normalize=True)"
      ],
      "execution_count": null,
      "outputs": []
    },
    {
      "cell_type": "markdown",
      "metadata": {
        "id": "z5-GlPjQvt8e"
      },
      "source": [
        "---\n",
        "## Problem with the Data"
      ]
    },
    {
      "cell_type": "markdown",
      "metadata": {
        "id": "Gp3vEWbdvt8e"
      },
      "source": [
        "### The sequence of frames of a sample video of *Running*"
      ]
    },
    {
      "cell_type": "code",
      "metadata": {
        "id": "X7s0ucgDvt8e"
      },
      "source": [
        "# Plotting the selected frames of a sample video (action being performed is running)\n",
        "\n",
        "f, axarr = plt.subplots(5, 8, figsize=(17, 10))\n",
        "row = 0\n",
        "col = 0\n",
        "for index, frame in enumerate(bench_video[17]):\n",
        "    if index in [8, 16, 24, 32, 40]:\n",
        "        row += 1\n",
        "        col = 0\n",
        "    axarr[row, col].imshow(np.squeeze(frame, axis=2), cmap='gray')\n",
        "    col += 1"
      ],
      "execution_count": null,
      "outputs": []
    },
    {
      "cell_type": "markdown",
      "metadata": {
        "id": "_JQEnaQzvt8f"
      },
      "source": [
        "### The sequence of frames of a sample video of *Jogging*"
      ]
    },
    {
      "cell_type": "code",
      "metadata": {
        "id": "tKFX8vhqvt8f"
      },
      "source": [
        "# Plotting the selected frames of a sample video (action being performed is jogging)\n",
        "\n",
        "f, axarr = plt.subplots(5, 8, figsize=(17, 10))\n",
        "row = 0\n",
        "col = 0\n",
        "for index, frame in enumerate(bench_video[13]):\n",
        "    if index in [8, 16, 24, 32, 40]:\n",
        "        row += 1\n",
        "        col = 0\n",
        "    axarr[row, col].imshow(np.squeeze(frame, axis=2), cmap='gray')\n",
        "    col += 1"
      ],
      "execution_count": null,
      "outputs": []
    },
    {
      "cell_type": "markdown",
      "metadata": {
        "id": "WTdfWx-rvt8f"
      },
      "source": [
        "### The sequence of frames of a sample video of *Walking*"
      ]
    },
    {
      "cell_type": "code",
      "metadata": {
        "id": "DvilP3Cyvt8g"
      },
      "source": [
        "# Plotting the selected frames of a sample video (action being performed is walking)\n",
        "\n",
        "f, axarr = plt.subplots(5, 8, figsize=(17, 10))\n",
        "row = 0\n",
        "col = 0\n",
        "for index, frame in enumerate(bench_video[21]):\n",
        "    if index in [8, 16, 24, 32, 40]:\n",
        "        row += 1\n",
        "        col = 0\n",
        "    axarr[row, col].imshow(np.squeeze(frame, axis=2), cmap='gray')\n",
        "    col += 1"
      ],
      "execution_count": null,
      "outputs": []
    },
    {
      "cell_type": "code",
      "metadata": {
        "collapsed": true,
        "id": "2AENRJdcvt8g"
      },
      "source": [
        ""
      ],
      "execution_count": null,
      "outputs": []
    }
  ]
}